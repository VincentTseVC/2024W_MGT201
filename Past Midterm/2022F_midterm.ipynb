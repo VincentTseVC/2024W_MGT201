{
 "cells": [
  {
   "cell_type": "code",
   "execution_count": 6,
   "metadata": {},
   "outputs": [
    {
     "name": "stdout",
     "output_type": "stream",
     "text": [
      "Regular price of cake: 24.95\n",
      "Regular price of cake: 24.95\n",
      "Regular price of cake: 24.95\n",
      "Total regular price: 74.85\n",
      "Total day old price: 37.42\n"
     ]
    }
   ],
   "source": [
    "num_cakes = int(input('Enter the amount of cake: '))\n",
    "cake_price = 24.95\n",
    "discount = 0.5\n",
    "print('Regular price of cake: ' + str(cake_price))\n",
    "print(f'Regular price of cake: {cake_price}')\n",
    "print('Regular %s of cake: %.2f' % ('price', cake_price))\n",
    "\n",
    "print('Total regular price: %.2f' % (cake_price * num_cakes))\n",
    "print('Total day old price: %.2f' % (cake_price * num_cakes * discount))"
   ]
  },
  {
   "cell_type": "code",
   "execution_count": 8,
   "metadata": {},
   "outputs": [
    {
     "name": "stdout",
     "output_type": "stream",
     "text": [
      "Total fare: $26.00\n"
     ]
    }
   ],
   "source": [
    "km = float(input('Enter km: '))\n",
    "m = km * 1000\n",
    "\n",
    "import math\n",
    "fare = 15 + math.ceil(m / 200)\n",
    "\n",
    "print('Total fare: $%.2f' % fare)\n"
   ]
  },
  {
   "attachments": {},
   "cell_type": "markdown",
   "metadata": {},
   "source": [
    "Question 2"
   ]
  },
  {
   "cell_type": "code",
   "execution_count": 11,
   "metadata": {},
   "outputs": [
    {
     "name": "stdout",
     "output_type": "stream",
     "text": [
      "[2024, 2, 3]\n"
     ]
    }
   ],
   "source": [
    "# date = input('Enter year: ')\n",
    "date = \"2024-02-03\"\n",
    "\n",
    "# date = date.split('-')\n",
    "# date[0] = int(date[0])\n",
    "# date[1] = int(date[1])\n",
    "# date[2] = int(date[2])\n",
    "# print(date)\n",
    "\n",
    "year = int(date[:4])\n",
    "month = int(date[5:7])\n",
    "day = int(date[8:])\n",
    "\n",
    "print([year, month, day])"
   ]
  },
  {
   "cell_type": "code",
   "execution_count": null,
   "metadata": {},
   "outputs": [],
   "source": [
    "if 0 > year: \n",
    "    print('Invalid year')\n",
    "elif 0 > month or month > 12: # month not in range(1, 13)\n",
    "    print('Invalid month')\n",
    "elif ((month in (1, 3, 5, 7, 8, 10, 12) and (0 > day or day > 31)) or\n",
    "      (month in (4, 6, 9, 11) and (0 > day or day > 30)) or\n",
    "      (month == 2 and (0 > day or day > 28))):\n",
    "        print('Invalid day')\n",
    "else:\n",
    "    print([year, month, day])\n"
   ]
  },
  {
   "attachments": {},
   "cell_type": "markdown",
   "metadata": {},
   "source": [
    "Question 3"
   ]
  },
  {
   "cell_type": "code",
   "execution_count": 18,
   "metadata": {},
   "outputs": [
    {
     "data": {
      "text/plain": [
       "25"
      ]
     },
     "execution_count": 18,
     "metadata": {},
     "output_type": "execute_result"
    }
   ],
   "source": [
    "# n = int(input('Enter a number: '))\n",
    "n = 9\n",
    "\n",
    "result = 0\n",
    "\n",
    "i = 1\n",
    "while i <= n:\n",
    "    result = result + i\n",
    "    i += 2\n",
    "result"
   ]
  },
  {
   "cell_type": "code",
   "execution_count": 20,
   "metadata": {},
   "outputs": [
    {
     "data": {
      "text/plain": [
       "25"
      ]
     },
     "execution_count": 20,
     "metadata": {},
     "output_type": "execute_result"
    }
   ],
   "source": [
    "n = 9\n",
    "result = 0\n",
    "for i in range(1, n + 1, 2):\n",
    "    result += i\n",
    "result"
   ]
  },
  {
   "cell_type": "code",
   "execution_count": null,
   "metadata": {},
   "outputs": [],
   "source": [
    "# x = 1\n",
    "sum = 0\n",
    "for x in range(1, 101):\n",
    "# while x <= 100:\n",
    "    sum = sum + x**0.5\n",
    "    # x = x + 1\n",
    "print(sum)"
   ]
  },
  {
   "cell_type": "code",
   "execution_count": 27,
   "metadata": {},
   "outputs": [
    {
     "name": "stdout",
     "output_type": "stream",
     "text": [
      "10.0\n"
     ]
    }
   ],
   "source": [
    "# temp = input(...)\n",
    "temp = 50\n",
    "unit = 'F'\n",
    "\n",
    "if unit == 'C':\n",
    "    print((temp * 9/5) + 32)\n",
    "else:\n",
    "    print(5/9 * (temp-32))"
   ]
  }
 ],
 "metadata": {
  "kernelspec": {
   "display_name": "Python 3",
   "language": "python",
   "name": "python3"
  },
  "language_info": {
   "codemirror_mode": {
    "name": "ipython",
    "version": 3
   },
   "file_extension": ".py",
   "mimetype": "text/x-python",
   "name": "python",
   "nbconvert_exporter": "python",
   "pygments_lexer": "ipython3",
   "version": "3.11.1"
  },
  "orig_nbformat": 4,
  "vscode": {
   "interpreter": {
    "hash": "aee8b7b246df8f9039afb4144a1f6fd8d2ca17a180786b69acc140d282b71a49"
   }
  }
 },
 "nbformat": 4,
 "nbformat_minor": 2
}
