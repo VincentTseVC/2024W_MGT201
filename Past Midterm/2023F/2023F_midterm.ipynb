{
 "cells": [
  {
   "cell_type": "code",
   "execution_count": 1,
   "metadata": {},
   "outputs": [],
   "source": [
    "def process_data(s):\n",
    "    info = s.split(';')\n",
    "    return {'title': info[0], 'author': info[1], 'year': int(info[2])}"
   ]
  },
  {
   "cell_type": "code",
   "execution_count": 2,
   "metadata": {},
   "outputs": [
    {
     "name": "stdout",
     "output_type": "stream",
     "text": [
      "{'title': 'The Grade Gatsby', 'author': 'F. Scott Fitzgerald', 'year': 1925}\n"
     ]
    }
   ],
   "source": [
    "print(process_data('The Grade Gatsby;F. Scott Fitzgerald;1925'))"
   ]
  },
  {
   "cell_type": "code",
   "execution_count": null,
   "metadata": {},
   "outputs": [],
   "source": [
    "def process_data(s):\n",
    "    # if s.count(';') != 2:\n",
    "    #     print('Incorrect Input format')\n",
    "    #     return None\n",
    "\n",
    "    count = 0\n",
    "    for ch in s:\n",
    "        if ch == ';':\n",
    "            count += 1\n",
    "    \n",
    "    if count != 2:\n",
    "        print('Incorrect Input format')\n",
    "        return None    \n",
    "    \n",
    "    info = s.split(';')\n",
    "\n",
    "    # if not info[2].isdigit():\n",
    "    #     print('Incorrect Input format')\n",
    "    #     return None\n",
    "\n",
    "    for ch in info[2]:\n",
    "        if ch not in '0123456789':\n",
    "            print('Incorrect Input format')\n",
    "            return None\n",
    "        \n",
    "    return {'title': info[0], 'author': info[1], 'year': int(info[2])}"
   ]
  },
  {
   "cell_type": "code",
   "execution_count": 4,
   "metadata": {},
   "outputs": [
    {
     "name": "stdout",
     "output_type": "stream",
     "text": [
      "The Great Gatsby\n",
      "1984\n",
      "Brave New World\n",
      "The Little Prince\n",
      "The Grapes of Wrath\n"
     ]
    }
   ],
   "source": [
    "f = open('books.txt', 'r')\n",
    "lines = f.readlines() # 第一步\n",
    "f.close()\n",
    "\n",
    "for line in lines:\n",
    "    line = line.strip('\\n') # 第二步\n",
    "    data = process_data(line)\n",
    "    if data['year'] < 1950:\n",
    "        print(data['title'])\n"
   ]
  },
  {
   "cell_type": "code",
   "execution_count": 5,
   "metadata": {},
   "outputs": [],
   "source": [
    "def count_char(s, ch):\n",
    "    count = 0\n",
    "    for c in s:\n",
    "        if c == ch:\n",
    "            count += 1\n",
    "    return count"
   ]
  },
  {
   "cell_type": "code",
   "execution_count": null,
   "metadata": {},
   "outputs": [],
   "source": [
    "count_char(\"mississippi\", 's')"
   ]
  },
  {
   "cell_type": "code",
   "execution_count": 1,
   "metadata": {},
   "outputs": [
    {
     "name": "stdout",
     "output_type": "stream",
     "text": [
      "14\n",
      "15\n"
     ]
    }
   ],
   "source": [
    "def largest_factor(n):\n",
    "    factor = 1\n",
    "    for i in range(2, n):\n",
    "        if n % i == 0:\n",
    "            factor = i\n",
    "    \n",
    "    return factor\n",
    "\n",
    "print(largest_factor(28))\n",
    "print(largest_factor(45))"
   ]
  },
  {
   "cell_type": "code",
   "execution_count": null,
   "metadata": {},
   "outputs": [],
   "source": [
    "def largest_factor(n):\n",
    "    for i in range(n-1, 1, -1):\n",
    "        if n % i == 0:\n",
    "            return i\n",
    "    \n",
    "    return 1\n",
    "\n",
    "print(largest_factor(28))\n",
    "print(largest_factor(45))"
   ]
  }
 ],
 "metadata": {
  "kernelspec": {
   "display_name": "Python 3",
   "language": "python",
   "name": "python3"
  },
  "language_info": {
   "codemirror_mode": {
    "name": "ipython",
    "version": 3
   },
   "file_extension": ".py",
   "mimetype": "text/x-python",
   "name": "python",
   "nbconvert_exporter": "python",
   "pygments_lexer": "ipython3",
   "version": "3.11.1 (v3.11.1:a7a450f84a, Dec  6 2022, 15:24:06) [Clang 13.0.0 (clang-1300.0.29.30)]"
  },
  "orig_nbformat": 4,
  "vscode": {
   "interpreter": {
    "hash": "aee8b7b246df8f9039afb4144a1f6fd8d2ca17a180786b69acc140d282b71a49"
   }
  }
 },
 "nbformat": 4,
 "nbformat_minor": 2
}
