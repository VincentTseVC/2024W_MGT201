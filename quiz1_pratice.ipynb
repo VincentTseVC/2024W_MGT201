{
 "cells": [
  {
   "attachments": {},
   "cell_type": "markdown",
   "metadata": {},
   "source": [
    "Print \"YES\" if a given list contains a negative number, otherwise print \"NO\""
   ]
  },
  {
   "cell_type": "code",
   "execution_count": 10,
   "metadata": {},
   "outputs": [
    {
     "name": "stdout",
     "output_type": "stream",
     "text": [
      "NO\n",
      "\n",
      "NO\n",
      "\n",
      "NO\n"
     ]
    }
   ],
   "source": [
    "L = [2, 6, 1, 7, 3, 8]\n",
    "\n",
    "flag = False    # 0\n",
    "i = 0\n",
    "while i < len(L):\n",
    "    # print(L[i])\n",
    "\n",
    "    if L[i] < 0:\n",
    "        flag = True # 1\n",
    "        break\n",
    "\n",
    "    i += 1\n",
    "\n",
    "if flag == True: # 1\n",
    "    print(\"YES\")\n",
    "else:\n",
    "    print(\"NO\")\n",
    "\n",
    "\n",
    "print()\n",
    "\n",
    "flag = False \n",
    "for n in L:\n",
    "    if n < 0:\n",
    "        flag = True\n",
    "        break\n",
    "\n",
    "if flag == True:\n",
    "    print(\"YES\")\n",
    "else:\n",
    "    print(\"NO\")\n",
    "\n",
    "print()\n",
    "\n",
    "flag = False\n",
    "for i in range(0, len(L), 1):\n",
    "    # print(L[i])\n",
    "    if L[i] < 0:\n",
    "        flag = True # 1\n",
    "        break\n",
    "\n",
    "if flag == True: # 1\n",
    "    print(\"YES\")\n",
    "else:\n",
    "    print(\"NO\")"
   ]
  },
  {
   "attachments": {},
   "cell_type": "markdown",
   "metadata": {},
   "source": [
    "Print \"YES\" if \"Otto\" is not in a given list, otherwise, print \"NO\""
   ]
  },
  {
   "cell_type": "code",
   "execution_count": null,
   "metadata": {},
   "outputs": [],
   "source": [
    "names = [\"Alice\", \"Vincent\", \"Otto\", \"Petter\"]\n",
    "\n",
    "flag = True\n",
    "for name in names:\n",
    "    if name == \"Otto\":\n",
    "        flag = False\n",
    "        break\n",
    "\n",
    "if flag == True:\n",
    "    print(\"YES\")\n",
    "else:\n",
    "    print(\"NO\")\n"
   ]
  },
  {
   "attachments": {},
   "cell_type": "markdown",
   "metadata": {},
   "source": [
    "Print \"YES\" if all number in a given list are even numbers, otherwise, print \"NO\""
   ]
  },
  {
   "cell_type": "code",
   "execution_count": 13,
   "metadata": {},
   "outputs": [
    {
     "name": "stdout",
     "output_type": "stream",
     "text": [
      "NO\n"
     ]
    }
   ],
   "source": [
    "L = [2, 4, 2, 6, 8, 1, 2, 4]\n",
    "\n",
    "box = \"apple\" # 1\n",
    "for num in L:\n",
    "    if num % 2 == 1: # odd (counter example)\n",
    "        box = \"bnanana\"\n",
    "        break\n",
    "\n",
    "if box == \"apple\":\n",
    "    print(\"YES\")\n",
    "else:\n",
    "    print(\"NO\")\n"
   ]
  },
  {
   "attachments": {},
   "cell_type": "markdown",
   "metadata": {},
   "source": [
    "How many inner sub-list of a given list contains at least a even number"
   ]
  },
  {
   "cell_type": "code",
   "execution_count": 17,
   "metadata": {},
   "outputs": [
    {
     "name": "stdout",
     "output_type": "stream",
     "text": [
      "3\n"
     ]
    }
   ],
   "source": [
    "L = [[1, 2, 3], [6, 6, 7], [1, 3, 5, 7], [0, 2]]\n",
    "\n",
    "count = 0\n",
    "for sub in L:\n",
    "\n",
    "    flag = 0\n",
    "    for n in sub:\n",
    "        if n % 2 == 0:\n",
    "            flag = 1\n",
    "            break\n",
    "    \n",
    "    if flag == 1:\n",
    "        count += 1\n",
    "\n",
    "print(count)"
   ]
  },
  {
   "attachments": {},
   "cell_type": "markdown",
   "metadata": {},
   "source": [
    "print the total number of even number in the given list"
   ]
  },
  {
   "cell_type": "code",
   "execution_count": 18,
   "metadata": {},
   "outputs": [
    {
     "name": "stdout",
     "output_type": "stream",
     "text": [
      "5\n"
     ]
    }
   ],
   "source": [
    "L = [[1, 2, 3], [6, 6, 7], [1, 3, 5, 7], [0, 2]]\n",
    "\n",
    "count = 0\n",
    "for sub in L:\n",
    "\n",
    "    for n in sub:\n",
    "        if n % 2 == 0:\n",
    "            count += 1\n",
    "    \n",
    "print(count)"
   ]
  },
  {
   "attachments": {},
   "cell_type": "markdown",
   "metadata": {},
   "source": [
    "print a list that contains each number of even numbers of each inner list"
   ]
  },
  {
   "cell_type": "code",
   "execution_count": 21,
   "metadata": {},
   "outputs": [
    {
     "name": "stdout",
     "output_type": "stream",
     "text": [
      "[1, 2, 0, 2]\n"
     ]
    }
   ],
   "source": [
    "L = [[1, 2, 3], [6, 6, 7], [1, 3, 5, 7], [0, 2]]\n",
    "\n",
    "result = []\n",
    "\n",
    "for sub in L:\n",
    "\n",
    "    count = 0 # Reset to Zero for every new sublist\n",
    "\n",
    "    for n in sub:\n",
    "        if n % 2 == 0:\n",
    "            count += 1\n",
    "    \n",
    "    result.append(count)\n",
    "\n",
    "print(result) # [1, 2, 0, 2]"
   ]
  },
  {
   "cell_type": "code",
   "execution_count": null,
   "metadata": {},
   "outputs": [],
   "source": [
    "s = \"I hate MGT201 so much :))\"\n",
    "\n",
    "i = 0\n",
    "while i < len(s) - 1:\n",
    "    \n",
    "    c = 0\n",
    "    for j in range(i+1, len(s), 5):\n",
    "        print(s[j])\n",
    "        if s[j].isalpha():\n",
    "            c += 1\n",
    "    \n",
    "    print(s[i])\n",
    "    i += 1 + c"
   ]
  }
 ],
 "metadata": {
  "kernelspec": {
   "display_name": "Python 3",
   "language": "python",
   "name": "python3"
  },
  "language_info": {
   "codemirror_mode": {
    "name": "ipython",
    "version": 3
   },
   "file_extension": ".py",
   "mimetype": "text/x-python",
   "name": "python",
   "nbconvert_exporter": "python",
   "pygments_lexer": "ipython3",
   "version": "3.11.1"
  },
  "orig_nbformat": 4,
  "vscode": {
   "interpreter": {
    "hash": "aee8b7b246df8f9039afb4144a1f6fd8d2ca17a180786b69acc140d282b71a49"
   }
  }
 },
 "nbformat": 4,
 "nbformat_minor": 2
}
