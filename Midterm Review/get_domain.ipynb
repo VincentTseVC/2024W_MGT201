{
 "cells": [
  {
   "cell_type": "markdown",
   "metadata": {},
   "source": [
    "Write a function that takes in an email address and return the domain <br/>\n",
    "(the portion of the address between the @ symbol and the last period) in the e-mail address. \n",
    "\n",
    "If is not a valid e-mail address, containing 1 @ symbol, and at least 1. to the right of the @ symbol, return `'INVALID'`"
   ]
  },
  {
   "cell_type": "markdown",
   "metadata": {},
   "source": [
    "For Example: \n",
    "\n",
    "if the given email is `'vincent.tse@utsc.utoronto.ca'`, the function should return `utsc.utoronto`\n",
    "\n",
    "if the given email is `'vincent.tse@gmail.com'`, the function should return `gmail`\n",
    "\n",
    "if the given email is `'vincent@tse@utsc.utoronto.ca'`, the function should return `INVALID`\n",
    "\n",
    "if the given email is `'vincent.tse@utscutorontoca'`, the function should return `INVALID`"
   ]
  },
  {
   "cell_type": "code",
   "execution_count": null,
   "metadata": {},
   "outputs": [],
   "source": []
  }
 ],
 "metadata": {
  "kernelspec": {
   "display_name": "Python 3.10.5 64-bit",
   "language": "python",
   "name": "python3"
  },
  "language_info": {
   "name": "python",
   "version": "3.10.5"
  },
  "orig_nbformat": 4,
  "vscode": {
   "interpreter": {
    "hash": "aee8b7b246df8f9039afb4144a1f6fd8d2ca17a180786b69acc140d282b71a49"
   }
  }
 },
 "nbformat": 4,
 "nbformat_minor": 2
}
