{
 "cells": [
  {
   "cell_type": "markdown",
   "metadata": {},
   "source": [
    "Return a dictionary whose keys are the members of all clubs in `clubs_to_members`, and whose values are the lists of clubs to which that member belongs."
   ]
  },
  {
   "cell_type": "code",
   "execution_count": null,
   "metadata": {},
   "outputs": [],
   "source": [
    "def get_membership(clubs_to_members: dict[str, list[str]]) -> dict[str, list[str]]:\n",
    "    result = {}\n",
    "\n",
    "    for club in clubs_to_members:\n",
    "        members = clubs_to_members[club]\n",
    "        for member in members:\n",
    "            \n",
    "            if member not in result:\n",
    "                result[member] = []\n",
    "            result[member].append(club)\n",
    "    \n",
    "    return result\n",
    "\n",
    "\n",
    "clubs_to_members = {\n",
    "    'programming': ['Brian', 'Nick', 'Paco'], \n",
    "    'games': ['Paco', 'Brian'], 'food': ['Paco'], 'homework': []\n",
    "}\n",
    "\n",
    "members_to_clubs = get_membership(clubs_to_members)\n",
    "print(members_to_clubs)\n",
    "# {'Paco': ['food', 'games', 'programming'], \n",
    "#  'Brian': ['games', 'programming'], \n",
    "#  'Nick': ['programming']}"
   ]
  },
  {
   "cell_type": "markdown",
   "metadata": {},
   "source": [
    "Return `True` iff the quantity (dict value) of every item (dict key) in `inventory_dict` is greater than or equal to the quantity of the item ordered in `order_dict`.\n",
    "\n",
    "If an item in `order_dict` is not in `inventory_dict`, return `False`."
   ]
  },
  {
   "cell_type": "code",
   "execution_count": null,
   "metadata": {},
   "outputs": [],
   "source": [
    "def can_fill_order(order_dict: dict[str, str], inventory_dict: dict[str, int]) -> bool:\n",
    "    needed = {}\n",
    "\n",
    "    for prod in order_dict.values():\n",
    "        if prod not in needed:\n",
    "            needed[prod] = 0\n",
    "        needed[prod] += 1\n",
    "\n",
    "    for prod in needed:\n",
    "        if prod not in inventory_dict:\n",
    "            return False\n",
    "        if needed[prod] > inventory_dict[prod]:\n",
    "            return False\n",
    "        \n",
    "    return True\n",
    "\n",
    "inventory = {'shirt': 2, 'mug': 2}\n",
    "print(can_fill_order({'Ann': 'mug', 'Bob': 'mug', 'Lee': 'mug'}, inventory))    # False\n",
    "print(can_fill_order({'Ann': 'shirt', 'Bob': 'mug', 'Lee': 'mug'}, inventory))  # True\n",
    "print(can_fill_order({'Ann': 'mug', 'Bob': 'mug', 'Lee': 'hat'}, inventory))    # False\n",
    "\n",
    "# needed => {'shirt': 1, 'mug': 2}\n",
    "# needed => {'mug': 2, 'hat': 1}"
   ]
  },
  {
   "cell_type": "markdown",
   "metadata": {},
   "source": [
    "Return a dictionary where the keys are the individual words in `text`, and the values are the positions in the `text` where the words occur (starting at 1).\n",
    "\n",
    "Include punctuation and numbers in words, and convert alphabetic characters to lowercase."
   ]
  },
  {
   "cell_type": "code",
   "execution_count": 1,
   "metadata": {},
   "outputs": [
    {
     "name": "stdout",
     "output_type": "stream",
     "text": [
      "{'cats': [1, 2, 3], 'cats!!!': [4]}\n",
      "{'i': [1, 3], 'think': [2], 'like': [4], 'mgt201.': [5]}\n"
     ]
    }
   ],
   "source": [
    "def get_positions(text: str) -> dict[str, list[int]]:\n",
    "    # text -> 'I think I like MGT201.'\n",
    "    text = text.lower()\n",
    "    # text -> 'i think i like mgt201.'\n",
    "    words = text.split(' ')\n",
    "    # => ['i', 'think', 'i', 'like', 'mgt201.']\n",
    "    # i   0       1      2     3        4\n",
    "    \n",
    "    res = {}\n",
    "    for i in range(len(words)):\n",
    "        word = words[i]\n",
    "\n",
    "        if word not in res:\n",
    "            res[word] = []\n",
    "        res[word].append(i + 1)\n",
    "\n",
    "    return res\n",
    "\n",
    "print(get_positions('cats Cats CATS CATS!!!')) \n",
    "# {'cats': [1, 2, 3], 'cats!!!': [4]}\n",
    "\n",
    "print(get_positions('I think I like MGT201.'))\n",
    "# {'i': [1, 3], 'think': [2], 'like': [4], 'mgt201.': [5]}"
   ]
  },
  {
   "attachments": {},
   "cell_type": "markdown",
   "metadata": {},
   "source": [
    "### Read a csv file of the polulation of the world and Find the total population of each continents"
   ]
  },
  {
   "cell_type": "code",
   "execution_count": 2,
   "metadata": {},
   "outputs": [
    {
     "name": "stdout",
     "output_type": "stream",
     "text": [
      "{'North America': {'Cananda': {'Toronto': 5000, 'Montreal': 2000}, 'USA': {'New York': 50}}, 'Asia': {'China': {'北京': 10000}}}\n"
     ]
    }
   ],
   "source": [
    "f = open('population.csv', 'r')\n",
    "lines = f.readlines() # 這是一個list\n",
    "f.close()\n",
    "\n",
    "# 根據 file 的內容 可以選擇要skip 前幾行 (header)\n",
    "lines = lines[1:] \n",
    "\n",
    "data = {}\n",
    "\n",
    "for line in lines:\n",
    "    # 第一步: 先把最後的回車鍵 '\\n'刪掉\n",
    "    line = line.strip()\n",
    "    # 第二步: 利用 ',' 把這個 str 分開成一個 list of str\n",
    "    info = line.split(',')\n",
    "\n",
    "    cont = info[0]\n",
    "    coun = info[1]\n",
    "    city = info[2]\n",
    "    ppl = int(info[3])\n",
    "\n",
    "    if cont not in data:\n",
    "        data[cont] = {}\n",
    "    \n",
    "    if coun not in data[cont]:\n",
    "        data[cont][coun] = {}\n",
    "    \n",
    "    data[cont][coun][city] = ppl\n",
    "\n",
    "\n",
    "print(data)"
   ]
  },
  {
   "cell_type": "markdown",
   "metadata": {},
   "source": [
    "Return a dictionary where the keys are continents from `continent_info` and the values are the total population of all cities on that continent."
   ]
  },
  {
   "cell_type": "code",
   "execution_count": null,
   "metadata": {},
   "outputs": [],
   "source": [
    "def find_population(continent_info: dict[str, dict[str, dict[str, int]]]) -> dict[str,int]:\n",
    "    res = {}\n",
    "\n",
    "    for cont in continent_info:\n",
    "        res[cont] = 0\n",
    "\n",
    "        for coun in continent_info[cont]:\n",
    "            for city in continent_info[cont][coun]:\n",
    "                res[cont] += continent_info[cont][coun][city]\n",
    "\n",
    "    return res\n",
    "\n",
    "data = {\n",
    "    'North America': {\n",
    "        'Canada': {'Toronto': 5000, 'Ottawa': 200}, \n",
    "        'USA': {'Portland': 400, 'New York': 5000, 'Chicago': 1000},\n",
    "        'Mexico': {'Mexico City': 10000}},\n",
    "    'Asia': {\n",
    "        'Thailand': {'Bangkok': 456}, \n",
    "        'Japan': {'Tokyo': 10000, 'Osaka': 5000}},\n",
    "    'Antarctica': {}\n",
    "}\n",
    "\n",
    "print(find_population(data))\n",
    "# {'North America': 21600, 'Asia': 15456, 'Antarctica': 0}"
   ]
  },
  {
   "attachments": {},
   "cell_type": "markdown",
   "metadata": {},
   "source": [
    "Read the csv file and ouput the total distance walked by each walker for each dog"
   ]
  },
  {
   "cell_type": "code",
   "execution_count": 2,
   "metadata": {},
   "outputs": [
    {
     "name": "stdout",
     "output_type": "stream",
     "text": [
      "{'Felix': {'Bob': 8, 'Ann': 1}, 'Fido': {'Bob': 2}, 'Fluffy': {'Ann': 20}}\n"
     ]
    }
   ],
   "source": [
    "f = open('walks.csv', 'r')\n",
    "lines = f.readlines() # 這是一個list\n",
    "f.close()\n",
    "\n",
    "# 根據 file 的內容 可以選擇要skip 前幾行 (header)\n",
    "lines = lines[1:] \n",
    "\n",
    "res = {}\n",
    "\n",
    "for line in lines:\n",
    "    # 第一步: 先把最後的回車鍵 '\\n'刪掉\n",
    "    line = line.strip()\n",
    "    # 第二步: 利用 ',' 把這個 str 分開成一個 list of str\n",
    "    info = line.split(',')\n",
    "\n",
    "    # process the info\n",
    "    dog = info[0]\n",
    "    walker = info[1]\n",
    "    dist = int(info[2])\n",
    "\n",
    "    if dog not in res:\n",
    "        res[dog] = {}\n",
    "    \n",
    "    if walker not in res[dog]:\n",
    "        res[dog][walker] = 0\n",
    "    \n",
    "    res[dog][walker] += dist\n",
    "\n",
    "\n",
    "print(res) # {'Felix': {'Bob': 8, 'Ann': 1}, 'Fido': {'Bob': 2}, 'Fluffy': {'Ann': 20}}"
   ]
  },
  {
   "cell_type": "markdown",
   "metadata": {},
   "source": [
    "Copy the contents of `input_file` to `output_file` If any word in `input_file` is in `CENSORED_WORDS`, replace it with `'****'`"
   ]
  },
  {
   "cell_type": "code",
   "execution_count": null,
   "metadata": {},
   "outputs": [],
   "source": [
    "from typing import TextIO\n",
    "\n",
    "CENSORED_WORDS = ['shit', 'fuck', 'butt', 'dick', 'motherfucker', ...]\n",
    "def mad_lib(input_file: TextIO, output_file: TextIO) -> None:\n",
    "    lines = input_file.readlines()\n",
    "    for line in lines:\n",
    "        line = line.strip()\n",
    "        words = line.split(' ')\n",
    "        for word in words:\n",
    "            if word in CENSORED_WORDS:\n",
    "                output_file.write('****')\n",
    "            else:\n",
    "                output_file.write(word)\n",
    "            output_file.write(' ')\n",
    "        output_file.write('\\n')\n",
    "\n",
    "input_file = open(\"input_file.txt\", \"r\")\n",
    "output_file = open(\"output_file.txt\", \"w\") \n",
    "mad_lib(input_file, output_file) \n",
    "input_file.close() \n",
    "output_file.close()"
   ]
  },
  {
   "cell_type": "code",
   "execution_count": 6,
   "metadata": {},
   "outputs": [
    {
     "name": "stdout",
     "output_type": "stream",
     "text": [
      "['abc', 'xyz', 'ijk']\n",
      "['abc', 'xyz', 'ijk']\n",
      "['abc', 'xyz', 'ijk']\n",
      "['abc', 'xyz', 'ijk']\n"
     ]
    }
   ],
   "source": [
    "print(\"abc,xyz,ijk\".split(','))\n",
    "print(\"abc, xyz, ijk\".split(', '))\n",
    "print(\"abcTMDxyzTMDijk\".split('TMD'))\n",
    "print(\"abc xyz ijk\".split(' '))"
   ]
  },
  {
   "cell_type": "markdown",
   "metadata": {},
   "source": [
    "\n",
    "In a play, the lines each character speaks have the following format:\n",
    "\n",
    "\n",
    "`[CHARACTER_NAME] first line of dialog`<br/>\n",
    "&nbsp;&nbsp;&nbsp;&nbsp;&nbsp;&nbsp;&nbsp;&nbsp;&nbsp;\n",
    "`additional lines of dialog (0 or more)`\n",
    "\n",
    "\n",
    "A ﬁle representing a play will contain character dialog formatted as above.<br/> \n",
    "Here is an example from Shakespeare’s *Antony and Cleopatra*:\n",
    "\n",
    "`[CLEOPATRA] I am sick and sullen.`<br/>\n",
    "`[MARK ANTONY] I am sorry`<br/>&nbsp;&nbsp;&nbsp;&nbsp;&nbsp;&nbsp;&nbsp;&nbsp;&nbsp;\n",
    "`to give breathing`<br/>&nbsp;&nbsp;&nbsp;&nbsp;&nbsp;&nbsp;&nbsp;&nbsp;&nbsp;\n",
    "`to my purpose,--`<br/>\n",
    "`[CLEOPATRA] Help me away,`<br/>&nbsp;&nbsp;&nbsp;&nbsp;&nbsp;&nbsp;&nbsp;&nbsp;&nbsp;\n",
    "`dear Charmian; I shall fall:`<br/>&nbsp;&nbsp;&nbsp;&nbsp;&nbsp;&nbsp;&nbsp;&nbsp;&nbsp; `It cannot be thus long,`<br/>&nbsp;&nbsp;&nbsp;&nbsp;&nbsp;&nbsp;&nbsp;&nbsp;&nbsp;\n",
    "`the sides of nature`<br/>&nbsp;&nbsp;&nbsp;&nbsp;&nbsp;&nbsp;&nbsp;&nbsp;&nbsp;\n",
    "`Will not sustain it.`<br>\n",
    "`[MARK ANTONY] Now,`<br/>&nbsp;&nbsp;&nbsp;&nbsp;&nbsp;&nbsp;&nbsp;&nbsp;&nbsp;\n",
    "`my dearest queen,--`<br/>\n",
    "`[CLEOPATRA] Pray you,`<br/>&nbsp;&nbsp;&nbsp;&nbsp;&nbsp;&nbsp;&nbsp;&nbsp;&nbsp;\n",
    "`stand further from me.`<br/>&nbsp;&nbsp;&nbsp;&nbsp;&nbsp;&nbsp;&nbsp;&nbsp;&nbsp;\n",
    "`[MARK ANTONY] What's the matter?`<br/>\n",
    "\n",
    "In this question, you will write a function that reads a ﬁle containing lines from a play in this format. <br/>\n",
    "Some things you can assume:\n",
    "\n",
    "- Square brackets are never used except to mark a `CHARACTER_NAME`.\n",
    "- `CHARACTER_NAME`s may be any case, but will have consistent case throughout the ﬁle.\n",
    "- There are no blank lines.\n",
    "- There will always be a non-empty ﬁrst line of dialog.\n",
    "\n",
    "Assume the the file is called `play.txt`\n"
   ]
  },
  {
   "cell_type": "code",
   "execution_count": null,
   "metadata": {},
   "outputs": [],
   "source": [
    "def read_lines(play: TextIO, character: str) -> list[str]:\n",
    "    ...\n",
    "\n",
    "file = open('play.txt', 'r')\n",
    "print(read_lines(file, 'MARK ANTONY'))\n",
    "file.close()\n",
    "# ['I am sorry to give breathing to my purpose,--',\n",
    "#  'Now, my dearest queen,--', \n",
    "#  'What's the matter?']"
   ]
  },
  {
   "cell_type": "markdown",
   "metadata": {},
   "source": [
    "Consider a CSV file `exams.csv` in exam time table format. \n",
    "\n",
    "Complete the following functions. You may assume that any files read are already open.\n",
    "\n",
    "`Code,Date,Time`<br/>\n",
    "`CSC108,2021-12-19,14:00`<br/>\n",
    "`CSC110,2021-12-19,14:00`<br/>\n",
    "`MAT137,2021-12-07,14:00`<br/>\n",
    "`MAT223,2021-12-18,9:00`<br/>"
   ]
  },
  {
   "cell_type": "markdown",
   "metadata": {},
   "source": [
    "`part a)`<br/>\n",
    "Given an open csv file in exam time table format, return a course dictionary where each key is a course and each corresponding value is a list [date, time]."
   ]
  },
  {
   "cell_type": "code",
   "execution_count": null,
   "metadata": {},
   "outputs": [],
   "source": [
    "f = open('exams.csv', 'r')\n",
    "lines = f.readlines()\n",
    "f.close()\n",
    "\n",
    "course_dict = {}\n",
    "\n",
    "lines = lines[1:]\n",
    "for line in lines:\n",
    "    info = line.strip().split(',')\n",
    "    # course_dict[info[0]] = info[1:]\n",
    "    \n",
    "    course = info[0]\n",
    "    date = info[1]\n",
    "    time = info[2]\n",
    "    \n",
    "    course_dict[course] = [date, time]\n",
    "\n",
    "\n",
    "print(course_dict)\n",
    "# For example, the entries for the lines in exams.csv would be: \n",
    "# {'CSC108': ['2021-12-19', '14:00'], 'MAT137': ['2021-12-07', '14:00'], \n",
    "#  'CSC110': ['2021-12-19', '14:00'], 'MAT223': ['2021-12-18', '9:00']}"
   ]
  },
  {
   "cell_type": "markdown",
   "metadata": {},
   "source": [
    "`part b)`<br/>\n",
    "Given a course dictionary where each key is a course code and the value is a list a date str and a time str, return a date dictionary where each key is a date and each corresponding value is a list of courses with an exam on that date."
   ]
  },
  {
   "cell_type": "code",
   "execution_count": 9,
   "metadata": {},
   "outputs": [
    {
     "name": "stdout",
     "output_type": "stream",
     "text": [
      "{'2021-12-19': ['CSC108', 'CSC110'], '2021-12-07': ['MAT137'], '2021-12-18': ['MAT223']}\n"
     ]
    }
   ],
   "source": [
    "def create_date_dict(course_dict: dict) -> dict:\n",
    "    result = {}\n",
    "    for course in course_dict:\n",
    "        date = course_dict[course][0]       \n",
    "        if date not in result:\n",
    "            result[date] = []\n",
    "        result[date].append(course)    \n",
    "    return result\n",
    "\n",
    "\n",
    "course_dict = {'CSC108': ['2021-12-19', '14:00'], 'MAT137': ['2021-12-07', '14:00'], \n",
    "               'CSC110': ['2021-12-19', '14:00'], 'MAT223': ['2021-12-18', '9:00']}\n",
    "print(create_date_dict(course_dict))\n",
    "# {'2021-12-19': ['CSC108', 'CSC110'], '2021-12-07': ['MAT137'], \n",
    "#  '2021-12-18': ['MAT223']}"
   ]
  },
  {
   "cell_type": "markdown",
   "metadata": {},
   "source": [
    "`part c)`<br/>\n",
    "Given a course dictionary where each key is a course and each corresponding value is a list with two items, a date string and a time string. Print out the course codes for the exams in chronological order one course code per line, i.e., from earliest date to latest date. You only need to consider the date, not the time."
   ]
  },
  {
   "cell_type": "code",
   "execution_count": 13,
   "metadata": {},
   "outputs": [
    {
     "name": "stdout",
     "output_type": "stream",
     "text": [
      "MAT137\n",
      "MAT223\n",
      "CSC108\n",
      "CSC110\n"
     ]
    }
   ],
   "source": [
    "def output_chrono(course_dict: dict) -> None:\n",
    "    date_dict = create_date_dict(course_dict)\n",
    "\n",
    "    dates = list(date_dict.keys())\n",
    "\n",
    "    # dates.sort()\n",
    "\n",
    "    # for date in dates:\n",
    "    #     for course in date_dict[date]:\n",
    "    #         print(course)\n",
    "\n",
    "    while len(dates) > 0:\n",
    "        min_date = min(dates)\n",
    "\n",
    "        for course in date_dict[min_date]:\n",
    "            print(course)\n",
    "        \n",
    "        dates.remove(min_date)\n",
    "    \n",
    "course_dict = {'CSC108': ['2021-12-19', '14:00'], 'MAT137': ['2021-12-07', '14:00'], \n",
    "               'CSC110': ['2021-12-19', '14:00'], 'MAT223': ['2021-12-18', '9:00']}\n",
    "output_chrono(course_dict)\n",
    "# MAT137\n",
    "# MAT223\n",
    "# CSC108 \n",
    "# CSC110"
   ]
  },
  {
   "cell_type": "markdown",
   "metadata": {},
   "source": [
    "`part d)`<br/>\n",
    "Given a course dictionary where each key is a course code and the value is a list a date str and a time str. Return the date with the most exams.\n",
    "\n",
    "If more than one date has the most exams return one of the dates."
   ]
  },
  {
   "cell_type": "code",
   "execution_count": 14,
   "metadata": {},
   "outputs": [
    {
     "name": "stdout",
     "output_type": "stream",
     "text": [
      "2021-12-19\n"
     ]
    }
   ],
   "source": [
    "def busiest_day(course_dict: dict) -> str:\n",
    "    date_dict = create_date_dict(course_dict)\n",
    "\n",
    "    most_tests = 0\n",
    "    for date in date_dict:\n",
    "        num_test = len(date_dict[date])\n",
    "        if num_test > most_tests:\n",
    "            most_tests = num_test\n",
    "            result = date\n",
    "        \n",
    "    return result\n",
    "\n",
    "course_dict = {'CSC108': ['2021-12-19', '14:00'], 'MAT137': ['2021-12-07', '14:00'], \n",
    "               'CSC110': ['2021-12-19', '14:00'], 'MAT223': ['2021-12-18', '9:00']}\n",
    "\n",
    "print(busiest_day(course_dict)) # 2021-12-19"
   ]
  }
 ],
 "metadata": {
  "kernelspec": {
   "display_name": "Python 3.10.5 64-bit",
   "language": "python",
   "name": "python3"
  },
  "language_info": {
   "codemirror_mode": {
    "name": "ipython",
    "version": 3
   },
   "file_extension": ".py",
   "mimetype": "text/x-python",
   "name": "python",
   "nbconvert_exporter": "python",
   "pygments_lexer": "ipython3",
   "version": "3.11.1"
  },
  "orig_nbformat": 4,
  "vscode": {
   "interpreter": {
    "hash": "aee8b7b246df8f9039afb4144a1f6fd8d2ca17a180786b69acc140d282b71a49"
   }
  }
 },
 "nbformat": 4,
 "nbformat_minor": 2
}
