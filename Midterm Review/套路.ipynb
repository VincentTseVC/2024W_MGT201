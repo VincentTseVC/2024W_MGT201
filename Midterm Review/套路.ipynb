{
 "cells": [
  {
   "cell_type": "code",
   "execution_count": null,
   "metadata": {},
   "outputs": [],
   "source": [
    "f = open('文件名.csv', 'r')\n",
    "lines = f.readlines() # 這是一個list\n",
    "f.close()\n",
    "\n",
    "# 根據 file 的內容 可以選擇要skip 前幾行 (header)\n",
    "lines = lines[1:] \n",
    "\n",
    "for line in lines:\n",
    "    # 第一步: 先把最後的回車鍵 '\\n'刪掉\n",
    "    line = line.strip()\n",
    "    # 第二步: 利用 ',' 把這個 str 分開成一個 list of str\n",
    "    info = line.split(',')\n",
    "\n",
    "    # process the info"
   ]
  },
  {
   "cell_type": "code",
   "execution_count": null,
   "metadata": {},
   "outputs": [],
   "source": [
    "def char_count(s):\n",
    "    d = {}\n",
    "    for ch in s:\n",
    "        if ch in d:\n",
    "            d[ch] += 1\n",
    "        else:\n",
    "            d[ch] = 1\n",
    "    return d\n",
    "\n",
    "def char_count(s):\n",
    "    d = {}\n",
    "    for ch in s:\n",
    "        if ch not in d:\n",
    "            d[ch] = 0\n",
    "        d[ch] += 1\n",
    "    return d\n",
    "    \n",
    "char_count(\"apple\") # -> {'a': 1, 'p': 2, 'l': 1, 'e': 1}"
   ]
  },
  {
   "cell_type": "code",
   "execution_count": null,
   "metadata": {},
   "outputs": [],
   "source": [
    "def char_index(s):\n",
    "    d = {}\n",
    "    for i in range(len(s)):\n",
    "\n",
    "        if s[i] in d:\n",
    "            d[s[i]].append(i)\n",
    "        else:\n",
    "            d[s[i]] = [ i ]\n",
    "            \n",
    "    return d\n",
    "\n",
    "def char_index(s):\n",
    "    d = {}\n",
    "    for i in range(len(s)):\n",
    "\n",
    "        if s[i] not in d:\n",
    "            d[s[i]] = []\n",
    "        d[s[i]].append(i)\n",
    "\n",
    "    return d\n",
    "\n",
    "char_index(\"banana\") # -> {'b': [0], 'a': [1, 3, 5], 'n: [2, 4]}"
   ]
  }
 ],
 "metadata": {
  "kernelspec": {
   "display_name": "Python 3",
   "language": "python",
   "name": "python3"
  },
  "language_info": {
   "name": "python",
   "version": "3.11.1 (v3.11.1:a7a450f84a, Dec  6 2022, 15:24:06) [Clang 13.0.0 (clang-1300.0.29.30)]"
  },
  "orig_nbformat": 4,
  "vscode": {
   "interpreter": {
    "hash": "aee8b7b246df8f9039afb4144a1f6fd8d2ca17a180786b69acc140d282b71a49"
   }
  }
 },
 "nbformat": 4,
 "nbformat_minor": 2
}
