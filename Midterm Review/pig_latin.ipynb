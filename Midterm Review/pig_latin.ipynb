{
 "cells": [
  {
   "cell_type": "markdown",
   "metadata": {},
   "source": [
    "Write a function that translates words into pig latin. \n",
    "\n",
    "RULES OF PIGLATIN\n",
    "\n",
    "- Words beginning with a vowel, have `'way'` put on the end (`'one'` becomes `'oneway'`)\n",
    "\n",
    "- Words with no vowels, have `'ay'` put on the end (`'xkcd'` becomes `'xkcday'`)\n",
    "\n",
    "- All other words have all of the letters before the first vowel moved to the end, <br/>and `'ay'` put on the end (`'brian'` becomes `'ianbray'`)\n",
    "\n",
    "- The code only works with lower case letters"
   ]
  },
  {
   "cell_type": "code",
   "execution_count": null,
   "metadata": {},
   "outputs": [],
   "source": []
  },
  {
   "cell_type": "markdown",
   "metadata": {},
   "source": [
    "Write a program that translate the file `story.txt` to pig latin and save it to `p_story.txt`"
   ]
  },
  {
   "cell_type": "code",
   "execution_count": null,
   "metadata": {},
   "outputs": [],
   "source": []
  }
 ],
 "metadata": {
  "kernelspec": {
   "display_name": "Python 3.10.5 64-bit",
   "language": "python",
   "name": "python3"
  },
  "language_info": {
   "name": "python",
   "version": "3.11.1 (v3.11.1:a7a450f84a, Dec  6 2022, 15:24:06) [Clang 13.0.0 (clang-1300.0.29.30)]"
  },
  "orig_nbformat": 4,
  "vscode": {
   "interpreter": {
    "hash": "aee8b7b246df8f9039afb4144a1f6fd8d2ca17a180786b69acc140d282b71a49"
   }
  }
 },
 "nbformat": 4,
 "nbformat_minor": 2
}
