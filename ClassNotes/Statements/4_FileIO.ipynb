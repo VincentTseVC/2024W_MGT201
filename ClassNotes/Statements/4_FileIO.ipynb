{
 "cells": [
  {
   "cell_type": "markdown",
   "metadata": {},
   "source": [
    "# File I/O (读/写文件)"
   ]
  },
  {
   "cell_type": "markdown",
   "metadata": {},
   "source": [
    "`f = open(path/to/filename, mode)`\n",
    "\n",
    "`f` 是一个指针, 指向 路徑在 `<path/to/filename>` 的文件中的 **`第一行`**, (除了 `mode` 为 `'a'`时 例外)\n",
    "\n",
    "`mode` 可以为以下:\n",
    "- `'r'` read character (读进来的 一定都是 `str`)\n",
    "\n",
    "- `'w'` write character (当 选项为 `'w` 时, `open()` 打开文件的瞬间 会把文件里原有的内容全部清空删掉!!)\n",
    "\n",
    "- `'a'` append character (不会删掉原有的内容, 从最后一行, 接着往后写)\n",
    "\n",
    "- `'rb'`, `'wb'` 读/写 的是 `Bytes` 而不是 character\n",
    "\n",
    "- 如果不提供, 默认为 `'r'`\n",
    "\n",
    "通常读完后 会用 `s.strip()` 把 leading (前面) 和 trailing (后面) 的 `' '`, `'\\n'`, `'\\t'` 删掉\n",
    "\n",
    "最后记得一定要 `f.close()`\n",
    "\n",
    "---"
   ]
  },
  {
   "cell_type": "markdown",
   "metadata": {},
   "source": [
    "### `4 种不同的方法 去读取文件`"
   ]
  },
  {
   "cell_type": "markdown",
   "metadata": {},
   "source": [
    "```python\n",
    "f.read()\n",
    "```\n",
    "- <ins>从 `f` 指向的那一行开始</ins>, 读完 整个 文件, 返回 一个很长的 `str`\n",
    "\n",
    "- 读完之后 `f` 会指向 最后一行 `(空的)`"
   ]
  },
  {
   "cell_type": "code",
   "execution_count": 8,
   "metadata": {},
   "outputs": [
    {
     "name": "stdout",
     "output_type": "stream",
     "text": [
      "Hello\n",
      "    How are u?\n",
      "  Bye\n",
      "try to read again: \n"
     ]
    }
   ],
   "source": [
    "f = open(\"FileIO_files/a.txt\", \"r\")\n",
    "lines = f.read() # lines 會是 'Hello\\n    How are u?\\n  Bye'\n",
    "print(lines)\n",
    "\n",
    "print(\"try to read again: \" + f.read()) # 這是空的 啥都沒有, 因為 f 已經指向最後一行了\n",
    "f.close()"
   ]
  },
  {
   "cell_type": "markdown",
   "metadata": {},
   "source": [
    "```python\n",
    "f.readlines()\n",
    "```\n",
    "- <ins>从 `f` 指向的那一行开始</ins>, 读完 整个 文件, 返回 一个很长的 `list of str`, 每个item 是一行\n",
    "\n",
    "- 读完之后 `f` 会指向 最后一行 `(空的)`"
   ]
  },
  {
   "cell_type": "code",
   "execution_count": 3,
   "metadata": {},
   "outputs": [
    {
     "name": "stdout",
     "output_type": "stream",
     "text": [
      "Hello\n",
      "    How are u?\n",
      "  Bye\n"
     ]
    }
   ],
   "source": [
    "f = open(\"FileIO_files/a.txt\", \"r\")\n",
    "lines = f.readlines() # lines 會是 ['Hello\\n', '    How are u?\\n', '  Bye']\n",
    "for line in lines:\n",
    "    print(line.strip('\\n'))\n",
    "f.close()"
   ]
  },
  {
   "cell_type": "markdown",
   "metadata": {},
   "source": [
    "```python\n",
    "f.readline()\n",
    "```\n",
    "- 读并返回 <ins> `f` 指向的那一行</ins>, 读完 把 `f` 指向 <ins>下一行</ins>, 返回 `str`\n",
    "\n",
    "- 因为一次只读一行, 所以通常会搭配 `while` loop 进行循环\n",
    "\n",
    "- 也很常拿来去 skip 掉一些 文件中 不需要的行数, 比如: `csv 文件`, `excel 表格` 中 前面的 `header`\n",
    "\n",
    "- 注意, 后面没有个 `s`, 别和 `.readlines()` 搞混了"
   ]
  },
  {
   "cell_type": "code",
   "execution_count": 11,
   "metadata": {},
   "outputs": [
    {
     "name": "stdout",
     "output_type": "stream",
     "text": [
      "Hello\n",
      "    How are u?\n",
      "  Bye\n"
     ]
    }
   ],
   "source": [
    "f = open(\"FileIO_files/a.txt\", \"r\")\n",
    "# 先 手動 讀第一行\n",
    "line = f.readline()\n",
    "# 檢查 是否依然能 讀得到內容, 讀不到 則是空的str\n",
    "while line != \"\":\n",
    "    print(line.strip('\\n'))\n",
    "    # 回去 while loop, 之前 讀下一行, \n",
    "    line = f.readline()\n",
    "f.close()"
   ]
  },
  {
   "cell_type": "markdown",
   "metadata": {},
   "source": [
    "```python\n",
    "for line in f:\n",
    "```\n",
    "- <ins>从 `f` 指向的那一行开始</ins>, 用 `for` loop 的方式 读完整个文件\n"
   ]
  },
  {
   "cell_type": "code",
   "execution_count": 12,
   "metadata": {},
   "outputs": [
    {
     "name": "stdout",
     "output_type": "stream",
     "text": [
      "Hello\n",
      "    How are u?\n",
      "  Bye\n"
     ]
    }
   ],
   "source": [
    "f = open(\"FileIO_files/a.txt\", \"r\")\n",
    "for line in f:\n",
    "    print(line.strip('\\n'))\n",
    "f.close()"
   ]
  },
  {
   "cell_type": "markdown",
   "metadata": {},
   "source": [
    "## `Writing & Appending to file` 写内容进文件"
   ]
  },
  {
   "cell_type": "markdown",
   "metadata": {},
   "source": [
    "```python\n",
    "f.write(s)\n",
    "```\n",
    "- 把 `s` 写进 <ins> `f` 指向的那一行</ins>, 写完 把 `f` 指向 <ins>下一行</ins>, 返回 `None`\n",
    "\n",
    "- 一定要 `f.close()` 才会 save (存挡)"
   ]
  },
  {
   "cell_type": "code",
   "execution_count": 8,
   "metadata": {},
   "outputs": [],
   "source": [
    "f = open(\"FileIO_files/b.txt\", \"w\")\n",
    "f.write(\"Hello\\n\") # 注意: 要 加 '\\n' 才會 換行\n",
    "f.write(\"vincent\")\n",
    "f.close()\n",
    "\n",
    "f = open(\"FileIO_files/b.txt\", \"w\") # 又把之前的內容 清空掉了！！！！\n",
    "f.write(\"Bye~\\n\")\n",
    "f.close()\n",
    "\n",
    "f = open(\"FileIO_files/b.txt\", \"a\")\n",
    "f.write(\"Anya\\n\")\n",
    "f.close()"
   ]
  },
  {
   "cell_type": "markdown",
   "metadata": {},
   "source": [
    "最后文件的内容如下:<br/>\n",
    "`Bye~`<br/>\n",
    "`Anya`"
   ]
  },
  {
   "cell_type": "markdown",
   "metadata": {},
   "source": [
    "## Library: `Pickle`\n",
    "\n",
    "直接把 python 里的 `object` 存到 file 里\n",
    "\n",
    "```python\n",
    "pickle.dump(x, f)\n",
    "```\n",
    "- 直接把 `x` 整个 object 写进去 `f` 这个文件里, 存的是 `bytes`\n",
    "\n",
    "```python\n",
    "x = pickle.load(f)\n",
    "```\n",
    "- 直接把 `f` 里的内容, 读出来, 放进 `x`里\n",
    "\n",
    "因为 读/写的 都是 `bytes` 所以 mode 要用 `wb`, `rb`, 文件名的 extension (后缀) 也要用 `.p`"
   ]
  },
  {
   "cell_type": "code",
   "execution_count": 19,
   "metadata": {},
   "outputs": [
    {
     "name": "stdout",
     "output_type": "stream",
     "text": [
      "{'apple': 3.99, 'banana': 2.99, 'carrot': 1.99}\n"
     ]
    }
   ],
   "source": [
    "import pickle\n",
    "\n",
    "items = {\"apple\": 3.99, \"banana\": 2.99, \"carrot\": 1.99}\n",
    "\n",
    "# 寫 binary 進去一個文件\n",
    "f = open('FileIO_files/items.p', 'wb')\n",
    "pickle.dump(items, f)\n",
    "f.close()\n",
    "\n",
    "# 從文件裡 讀 binary\n",
    "f = open('FileIO_files/items.p', 'rb')\n",
    "data = pickle.load(f)\n",
    "f.close()\n",
    "\n",
    "print(data)"
   ]
  },
  {
   "cell_type": "markdown",
   "metadata": {},
   "source": [
    "## `f = open(...)` 和 `with open(...) as f` 的區別"
   ]
  },
  {
   "cell_type": "code",
   "execution_count": null,
   "metadata": {},
   "outputs": [],
   "source": [
    "f = open(\"FileIO_files/a.txt\", \"r\")\n",
    "# do something...\n",
    "f.close() # 一定要手動close, 但是如果前面有Error (crash) 就會導致 沒有close\n",
    "\n",
    "with open(\"FileIO_files/a.txt\", \"r\") as f:\n",
    "    ...\n",
    "    # so something\n",
    "    # python 會自動幫你 close :)"
   ]
  },
  {
   "cell_type": "markdown",
   "metadata": {},
   "source": [
    "## *`Example:`*\n",
    "\n",
    "Create a dictionary that maps student name to a dictionary mapping course to grade based on the file `grades.txt`. Noted that lines after `---` are not part of the data, and should be ignored."
   ]
  },
  {
   "cell_type": "code",
   "execution_count": 23,
   "metadata": {},
   "outputs": [],
   "source": [
    "expected_result = {\n",
    "  \"alice\": {\"MGT201\": 95.0, \"MAT135\": 70},\n",
    "  \"bob\": {\"MGT220\": 80, \"MAT135\": 67},\n",
    "  \"carol\": {\"MGT201\": 80},\n",
    "  \"vincent\": {\"MGT201\": 90}\n",
    "}"
   ]
  },
  {
   "cell_type": "code",
   "execution_count": 13,
   "metadata": {},
   "outputs": [
    {
     "name": "stdout",
     "output_type": "stream",
     "text": [
      "{'alice': {'MGT201': 95.0, 'MAT135': 70.0}, 'bob': {'MGT220': 80.0, 'MAT135': 67.0}, 'carol': {'MGT201': 80.0}, 'vincent': {'MGT201': 90.0}}\n"
     ]
    }
   ],
   "source": [
    "student_marks = {}\n",
    "# ------------------------------------\n",
    "f = open(\"FileIO_files/grades.txt\", \"r\")\n",
    "# skip the header\n",
    "f.readline()\n",
    "\n",
    "# read the rest until we reach '---'\n",
    "line = f.readline()\n",
    "while not line.startswith('---'): # line != '---\\n' OR line.strip() != '---' OR line[:3] != '---'\n",
    "    s, c, g = line.strip().split(',')\n",
    "    \n",
    "    if s in student_marks:\n",
    "        student_marks[s][c] = float(g)\n",
    "    else:\n",
    "        student_marks[s] = {c: float(g)}\n",
    "\n",
    "    # 回去之前 讀下一行\n",
    "    line = f.readline()\n",
    "f.close()\n",
    "\n",
    "print(student_marks)"
   ]
  },
  {
   "cell_type": "markdown",
   "metadata": {},
   "source": [
    "part 2) Given the student dictionary generated above, create a new dictionary that maps student to their average mark"
   ]
  },
  {
   "cell_type": "code",
   "execution_count": null,
   "metadata": {},
   "outputs": [],
   "source": [
    "student_marks = {\n",
    "  'alice': {'MGT201': 95.0, 'MAT135': 70.0}, \n",
    "  'bob': {'MGT220': 80.0, 'MAT135': 67.0}, \n",
    "  'carol': {'MGT201': 80.0}, \n",
    "  'vincent': {'MGT201': 90.0}\n",
    "}\n",
    "\n",
    "expected = {\n",
    "  \"MGT201\": 83.33,\n",
    "  \"MAT135\": 68.5,\n",
    "  \"MGT220\": 80.0\n",
    "}"
   ]
  },
  {
   "cell_type": "code",
   "execution_count": 14,
   "metadata": {},
   "outputs": [
    {
     "name": "stdout",
     "output_type": "stream",
     "text": [
      "{'MGT201': 88.33333333333333, 'MAT135': 68.5, 'MGT220': 80.0}\n"
     ]
    }
   ],
   "source": [
    "temp = {}\n",
    "for s in student_marks:\n",
    "  for c in student_marks[s]:\n",
    "    g = student_marks[s][c]\n",
    "\n",
    "    if c in temp:\n",
    "        temp[c].append(g)\n",
    "    else:\n",
    "        temp[c] = [g]\n",
    "\n",
    "course_avg = {}\n",
    "for c in temp:\n",
    "    course_avg[c] = sum(temp[c]) / len(temp[c])   \n",
    "\n",
    "print(course_avg)\n"
   ]
  }
 ],
 "metadata": {
  "kernelspec": {
   "display_name": "Python 3.10.5 64-bit",
   "language": "python",
   "name": "python3"
  },
  "language_info": {
   "codemirror_mode": {
    "name": "ipython",
    "version": 3
   },
   "file_extension": ".py",
   "mimetype": "text/x-python",
   "name": "python",
   "nbconvert_exporter": "python",
   "pygments_lexer": "ipython3",
   "version": "3.11.1"
  },
  "orig_nbformat": 4,
  "vscode": {
   "interpreter": {
    "hash": "aee8b7b246df8f9039afb4144a1f6fd8d2ca17a180786b69acc140d282b71a49"
   }
  }
 },
 "nbformat": 4,
 "nbformat_minor": 2
}
