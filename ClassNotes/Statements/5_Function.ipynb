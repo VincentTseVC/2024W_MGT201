{
 "cells": [
  {
   "cell_type": "code",
   "execution_count": 7,
   "metadata": {},
   "outputs": [
    {
     "name": "stdout",
     "output_type": "stream",
     "text": [
      "My gpa is 4.0\n",
      "My gpa is 4.0\n",
      "My gpa is 4.0\n"
     ]
    }
   ],
   "source": [
    "gpa = 4.0\n",
    "\n",
    "print('My gpa is ' + str(gpa))\n",
    "print('My gpa is {}'.format(gpa))\n",
    "print(f'My gpa is {gpa}')"
   ]
  },
  {
   "cell_type": "code",
   "execution_count": 3,
   "metadata": {},
   "outputs": [
    {
     "name": "stdout",
     "output_type": "stream",
     "text": [
      "Hello my name is Vincent and I am 18 years old\n",
      "Vincent will proably die within 82 years\n",
      "Hello my name is Alice and I am 20 years old\n",
      "Vincent will proably die within 80 years\n"
     ]
    }
   ],
   "source": [
    "def tell_the_truth(name, age):\n",
    "  print(f'Hello my name is {name} and I am {age} years old')\n",
    "  print(f'Vincent will proably die within {100 - age} years')\n",
    "\n",
    "tell_the_truth(\"Vincent\", 18)\n",
    "tell_the_truth(\"Alice\", 20)"
   ]
  },
  {
   "cell_type": "code",
   "execution_count": 6,
   "metadata": {},
   "outputs": [
    {
     "name": "stdout",
     "output_type": "stream",
     "text": [
      "Hello my name is Brian and I am 50 years old\n",
      "Vincent will proably die within 50 years\n"
     ]
    }
   ],
   "source": [
    "tell_the_truth(\"Brian\", 50)"
   ]
  },
  {
   "cell_type": "code",
   "execution_count": 8,
   "metadata": {},
   "outputs": [
    {
     "name": "stdout",
     "output_type": "stream",
     "text": [
      "Hello!!\n",
      "how are you~~~\n"
     ]
    }
   ],
   "source": [
    "def greeting():\n",
    "  print(\"Hello!!\")\n",
    "  print(\"how are you~~~\")\n",
    "\n",
    "greeting()"
   ]
  },
  {
   "cell_type": "markdown",
   "metadata": {},
   "source": [
    "錯的 不要用 print!!!"
   ]
  },
  {
   "cell_type": "code",
   "execution_count": 4,
   "metadata": {},
   "outputs": [
    {
     "name": "stdout",
     "output_type": "stream",
     "text": [
      "100.0\n",
      "The area is : None\n"
     ]
    }
   ],
   "source": [
    "def triangle_area(base, height):\n",
    "  area = base * height * 0.5\n",
    "  print(area)\n",
    "\n",
    "res = triangle_area(10, 20)\n",
    "print(f'The area is : {res}')"
   ]
  },
  {
   "cell_type": "markdown",
   "metadata": {},
   "source": [
    "對的！！ 用 return"
   ]
  },
  {
   "cell_type": "code",
   "execution_count": 11,
   "metadata": {},
   "outputs": [
    {
     "name": "stdout",
     "output_type": "stream",
     "text": [
      "The area is : 100.0\n"
     ]
    }
   ],
   "source": [
    "def triangle_area(base, height):\n",
    "  area = base * height * 0.5\n",
    "  return area\n",
    "\n",
    "res = triangle_area(10, 20)\n",
    "print(f'The area is : {res}')"
   ]
  },
  {
   "cell_type": "markdown",
   "metadata": {},
   "source": [
    "# Examples\n",
    "\n",
    "Write a function that takes in a string and return True iff it contains a digit, other False"
   ]
  },
  {
   "cell_type": "code",
   "execution_count": 12,
   "metadata": {},
   "outputs": [],
   "source": [
    "def contains_digit(s):\n",
    "  for ch in s:\n",
    "    if ch.isdigit():\n",
    "      return True\n",
    "    # else:\n",
    "      # return False\n",
    "  return False"
   ]
  },
  {
   "cell_type": "code",
   "execution_count": 14,
   "metadata": {},
   "outputs": [
    {
     "name": "stdout",
     "output_type": "stream",
     "text": [
      "True\n",
      "False\n"
     ]
    }
   ],
   "source": [
    "print(contains_digit('mgt201'))\n",
    "print(contains_digit('Anya'))"
   ]
  },
  {
   "cell_type": "markdown",
   "metadata": {},
   "source": [
    "Write a function that takes in a string and return the number of digits"
   ]
  },
  {
   "cell_type": "code",
   "execution_count": 16,
   "metadata": {},
   "outputs": [
    {
     "name": "stdout",
     "output_type": "stream",
     "text": [
      "3\n",
      "0\n"
     ]
    }
   ],
   "source": [
    "def count_digits(s):\n",
    "  count = 0\n",
    "  for ch in s:\n",
    "    if ch.isdigit():\n",
    "      count += 1\n",
    "  return count\n",
    "\n",
    "print(count_digits('MGT201'))\n",
    "print(count_digits('Anya Waku Waku~~'))"
   ]
  },
  {
   "cell_type": "markdown",
   "metadata": {},
   "source": [
    "Write a function that takes in a list of string and return the total number of digits of each string"
   ]
  },
  {
   "cell_type": "code",
   "execution_count": 19,
   "metadata": {},
   "outputs": [
    {
     "name": "stdout",
     "output_type": "stream",
     "text": [
      "8\n"
     ]
    }
   ],
   "source": [
    "def count_total_digits(L):\n",
    "  count = 0\n",
    "  for s in L:\n",
    "    count += count_digits(s)\n",
    "  return count\n",
    "\n",
    "print(count_total_digits(['MGT201', 'I am 18 years old', '666']))\n"
   ]
  },
  {
   "cell_type": "markdown",
   "metadata": {},
   "source": [
    "# Tracing"
   ]
  },
  {
   "cell_type": "code",
   "execution_count": 20,
   "metadata": {},
   "outputs": [
    {
     "name": "stdout",
     "output_type": "stream",
     "text": [
      "Hello\n",
      "1 -1 3\n",
      "Hello\n",
      "-6\n",
      "None -1 3\n"
     ]
    },
    {
     "ename": "NameError",
     "evalue": "name 'a' is not defined",
     "output_type": "error",
     "traceback": [
      "\u001b[0;31m---------------------------------------------------------------------------\u001b[0m",
      "\u001b[0;31mNameError\u001b[0m                                 Traceback (most recent call last)",
      "Cell \u001b[0;32mIn [20], line 17\u001b[0m\n\u001b[1;32m     15\u001b[0m x \u001b[38;5;241m=\u001b[39m func2(y, func1(z, x))\n\u001b[1;32m     16\u001b[0m \u001b[38;5;28mprint\u001b[39m(x, y, z)\n\u001b[0;32m---> 17\u001b[0m \u001b[38;5;28mprint\u001b[39m(\u001b[43ma\u001b[49m)\n",
      "\u001b[0;31mNameError\u001b[0m: name 'a' is not defined"
     ]
    }
   ],
   "source": [
    "def func1(x, y):\n",
    "  print('Hello')\n",
    "  a = y - x\n",
    "  return a\n",
    "\n",
    "def func2(x, y):\n",
    "  x = y * z\n",
    "  print(x)\n",
    "\n",
    "x = 1\n",
    "y = 2\n",
    "z = 3\n",
    "y = func1(y, x)\n",
    "print(x, y, z)\n",
    "x = func2(y, func1(z, x))\n",
    "print(x, y, z)\n",
    "print(a)"
   ]
  }
 ],
 "metadata": {
  "kernelspec": {
   "display_name": "Python 3.10.5 64-bit",
   "language": "python",
   "name": "python3"
  },
  "language_info": {
   "codemirror_mode": {
    "name": "ipython",
    "version": 3
   },
   "file_extension": ".py",
   "mimetype": "text/x-python",
   "name": "python",
   "nbconvert_exporter": "python",
   "pygments_lexer": "ipython3",
   "version": "3.11.1"
  },
  "orig_nbformat": 4,
  "vscode": {
   "interpreter": {
    "hash": "aee8b7b246df8f9039afb4144a1f6fd8d2ca17a180786b69acc140d282b71a49"
   }
  }
 },
 "nbformat": 4,
 "nbformat_minor": 2
}
