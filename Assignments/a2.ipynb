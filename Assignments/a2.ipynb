{
 "cells": [
  {
   "cell_type": "code",
   "execution_count": 11,
   "metadata": {},
   "outputs": [],
   "source": [
    "filename = input('Enter the filename you want to save to (.csv): ')\n",
    "f = open(filename, 'w')\n",
    "# header\n",
    "f.write(\"Month,Inventory (Coats),Inventory (Belts),Averasge Cost per Coat ($),Average Cost per Belt\\n\")\n",
    "\n",
    "quit = False\n",
    "while not quit:\n",
    "    \n",
    "    quit = input(\"Enter Q to quit entering data, or press any other key to continue.\")\n",
    "    if quit.lower() == 'q': # quit in 'Qq':\n",
    "        break\n",
    "\n",
    "    month = input(\"Enter a month and year (January '24): \")\n",
    "\n",
    "    coats = input(\"Enter the Coats Inventory: \")\n",
    "    # check if the input only consists of numbers. \n",
    "    while not coats.isdigit(): \n",
    "        print('Invalid input, please enter a positive integer')\n",
    "        coats = input(\"Enter the Coats Inventory: \")\n",
    "    \n",
    "    belts = input(\"Enter the Belts Inventory: \")\n",
    "    while not belts.isdigit(): \n",
    "        print('Invalid input, please enter a positive integer')\n",
    "        belts = input(\"Enter the Belts Inventory: \")\n",
    "\n",
    "    avg_coat_cost = input(\"Enter the Average Cost per Coat: \")\n",
    "    # remove 'at most' one dot, and check the remaindings are numbers\n",
    "    while not avg_coat_cost.replace(\".\", \"\", 1).isdigit():\n",
    "        print('Invalid input, please enter a positive number')\n",
    "        avg_coat_cost = input(\"Enter the Average Cost per Coat: \")\n",
    "\n",
    "    avg_belt_cost = input(\"Enter the Average Cost per Belt: \")\n",
    "    while not avg_belt_cost.replace(\".\", \"\", 1).isdigit():\n",
    "        print('Invalid input, please enter a positive number')\n",
    "        avg_belt_cost = input(\"Enter the Average Cost per Belt: \")\n",
    "\n",
    "    f.write(\"%s,%s,%s,%s,%s\\n\" % (month, coats, belts, avg_coat_cost, avg_belt_cost))\n",
    "f.close()"
   ]
  },
  {
   "cell_type": "code",
   "execution_count": 20,
   "metadata": {},
   "outputs": [
    {
     "name": "stdout",
     "output_type": "stream",
     "text": [
      "{\"Jan '23\": {'Coat': {'Inventory': 50, 'AvgCost': 500.0}, 'Belt': {'Inventory': 83, 'AvgCost': 25.0}}, \"February '23\": {'Coat': {'Inventory': 50, 'AvgCost': 500.0}, 'Belt': {'Inventory': 83, 'AvgCost': 25.0}}, \"March '23\": {'Coat': {'Inventory': 48, 'AvgCost': 480.0}, 'Belt': {'Inventory': 67, 'AvgCost': 23.5}}, \"April '23\": {'Coat': {'Inventory': 52, 'AvgCost': 510.0}, 'Belt': {'Inventory': 72, 'AvgCost': 24.25}}, \"May '23\": {'Coat': {'Inventory': 55, 'AvgCost': 520.0}, 'Belt': {'Inventory': 81, 'AvgCost': 26.1}}, \"June '23\": {'Coat': {'Inventory': 43, 'AvgCost': 505.0}, 'Belt': {'Inventory': 88, 'AvgCost': 25.5}}, \"July '23\": {'Coat': {'Inventory': 35, 'AvgCost': 528.0}, 'Belt': {'Inventory': 75, 'AvgCost': 27.1}}, \"August '23\": {'Coat': {'Inventory': 30, 'AvgCost': 532.0}, 'Belt': {'Inventory': 68, 'AvgCost': 26.75}}, \"September '23\": {'Coat': {'Inventory': 38, 'AvgCost': 540.0}, 'Belt': {'Inventory': 89, 'AvgCost': 27.04}}, \"October '23\": {'Coat': {'Inventory': 45, 'AvgCost': 535.0}, 'Belt': {'Inventory': 79, 'AvgCost': 26.32}}, \"November '23\": {'Coat': {'Inventory': 50, 'AvgCost': 550.0}, 'Belt': {'Inventory': 65, 'AvgCost': 27.88}}, \"December '23\": {'Coat': {'Inventory': 52, 'AvgCost': 545.0}, 'Belt': {'Inventory': 88, 'AvgCost': 27.6}}, \"January '24\": {'Coat': {'Inventory': 60, 'AvgCost': 555.0}, 'Belt': {'Inventory': 80, 'AvgCost': 27.95}}}\n"
     ]
    }
   ],
   "source": [
    "filename = input('Enter the filename to read from: ')\n",
    "f = open(filename, 'r')\n",
    "lines = f.readlines()\n",
    "lines = lines[1:] # 把 header 去掉\n",
    "# print(lines)\n",
    "\n",
    "data = {}\n",
    "\n",
    "for line in lines:\n",
    "    info = line.strip().split(',')\n",
    "    month = info[0]\n",
    "    coats = int(info[1])\n",
    "    belts = int(info[2])\n",
    "    avg_coat_cost = float(info[3])\n",
    "    avg_belt_cost = float(info[4])\n",
    "\n",
    "    data[month] = {\"Coat\": {\"Inventory\": coats, \"AvgCost\": avg_coat_cost},\n",
    "                   \"Belt\": {\"Inventory\": belts, \"AvgCost\": avg_belt_cost}}\n",
    "\n",
    "print(data)"
   ]
  },
  {
   "attachments": {},
   "cell_type": "markdown",
   "metadata": {},
   "source": [
    "a) Calculate the average monthly inventory over the last 12 months for coats and belts respectively."
   ]
  },
  {
   "cell_type": "code",
   "execution_count": 30,
   "metadata": {},
   "outputs": [
    {
     "name": "stdout",
     "output_type": "stream",
     "text": [
      "The Average monthly inventory over the last 12 months for caots: 46.50\n",
      "The Average monthly inventory over the last 12 months for belts: 77.92\n"
     ]
    }
   ],
   "source": [
    "coat_total_inventory = 0\n",
    "belt_total_inventory = 0\n",
    "last_12_month_data = list(data.values())[-12:]\n",
    "for month_data in last_12_month_data:\n",
    "    coat_total_inventory += month_data['Coat']['Inventory']\n",
    "    belt_total_inventory += month_data['Belt']['Inventory']\n",
    "\n",
    "coat_average_monthly_inventory = coat_total_inventory / 12\n",
    "belt_average_monthly_inventory = belt_total_inventory / 12\n",
    "\n",
    "print('The Average monthly inventory over the last 12 months for caots: %.2f' % coat_average_monthly_inventory)\n",
    "print('The Average monthly inventory over the last 12 months for belts: %.2f' % belt_average_monthly_inventory)"
   ]
  },
  {
   "attachments": {},
   "cell_type": "markdown",
   "metadata": {},
   "source": [
    "b) Calculate the total dollar ($) amount of inventory for coats and belts (per month)."
   ]
  },
  {
   "cell_type": "code",
   "execution_count": 36,
   "metadata": {},
   "outputs": [
    {
     "name": "stdout",
     "output_type": "stream",
     "text": [
      "The total dollar ($) amount of inventory for Jan '23\n",
      " - Coat: $25000.00\n",
      " - Belt: $2075.00\n",
      "The total dollar ($) amount of inventory for February '23\n",
      " - Coat: $25000.00\n",
      " - Belt: $2075.00\n",
      "The total dollar ($) amount of inventory for March '23\n",
      " - Coat: $23040.00\n",
      " - Belt: $1574.50\n",
      "The total dollar ($) amount of inventory for April '23\n",
      " - Coat: $26520.00\n",
      " - Belt: $1746.00\n",
      "The total dollar ($) amount of inventory for May '23\n",
      " - Coat: $28600.00\n",
      " - Belt: $2114.10\n",
      "The total dollar ($) amount of inventory for June '23\n",
      " - Coat: $21715.00\n",
      " - Belt: $2244.00\n",
      "The total dollar ($) amount of inventory for July '23\n",
      " - Coat: $18480.00\n",
      " - Belt: $2032.50\n",
      "The total dollar ($) amount of inventory for August '23\n",
      " - Coat: $15960.00\n",
      " - Belt: $1819.00\n",
      "The total dollar ($) amount of inventory for September '23\n",
      " - Coat: $20520.00\n",
      " - Belt: $2406.56\n",
      "The total dollar ($) amount of inventory for October '23\n",
      " - Coat: $24075.00\n",
      " - Belt: $2079.28\n",
      "The total dollar ($) amount of inventory for November '23\n",
      " - Coat: $27500.00\n",
      " - Belt: $1812.20\n",
      "The total dollar ($) amount of inventory for December '23\n",
      " - Coat: $28340.00\n",
      " - Belt: $2428.80\n",
      "The total dollar ($) amount of inventory for January '24\n",
      " - Coat: $33300.00\n",
      " - Belt: $2236.00\n"
     ]
    }
   ],
   "source": [
    "for month in data:\n",
    "    coat_total = data[month]['Coat']['Inventory'] * data[month]['Coat']['AvgCost']\n",
    "    belt_total = data[month]['Belt']['Inventory'] * data[month]['Belt']['AvgCost']\n",
    "    \n",
    "    print('The total dollar ($) amount of inventory for %s' % month)\n",
    "    print(' - Coat: $%.2f' % coat_total)\n",
    "    print(' - Belt: $%.2f' % belt_total)"
   ]
  },
  {
   "attachments": {},
   "cell_type": "markdown",
   "metadata": {},
   "source": [
    "c) Calculate the total dollar ($) amount of all inventory (per month)."
   ]
  },
  {
   "cell_type": "code",
   "execution_count": 38,
   "metadata": {},
   "outputs": [
    {
     "name": "stdout",
     "output_type": "stream",
     "text": [
      "The total dollar ($) amount of inventory for Jan '23: $27075.00\n",
      "The total dollar ($) amount of inventory for February '23: $27075.00\n",
      "The total dollar ($) amount of inventory for March '23: $24614.50\n",
      "The total dollar ($) amount of inventory for April '23: $28266.00\n",
      "The total dollar ($) amount of inventory for May '23: $30714.10\n",
      "The total dollar ($) amount of inventory for June '23: $23959.00\n",
      "The total dollar ($) amount of inventory for July '23: $20512.50\n",
      "The total dollar ($) amount of inventory for August '23: $17779.00\n",
      "The total dollar ($) amount of inventory for September '23: $22926.56\n",
      "The total dollar ($) amount of inventory for October '23: $26154.28\n",
      "The total dollar ($) amount of inventory for November '23: $29312.20\n",
      "The total dollar ($) amount of inventory for December '23: $30768.80\n",
      "The total dollar ($) amount of inventory for January '24: $35536.00\n"
     ]
    }
   ],
   "source": [
    "for month in data:\n",
    "    coat_total = data[month]['Coat']['Inventory'] * data[month]['Coat']['AvgCost']\n",
    "    belt_total = data[month]['Belt']['Inventory'] * data[month]['Belt']['AvgCost']\n",
    "    \n",
    "    print('The total dollar ($) amount of inventory for %s: $%.2f' % (month, coat_total + belt_total))"
   ]
  },
  {
   "attachments": {},
   "cell_type": "markdown",
   "metadata": {},
   "source": [
    "d) Calculate the average monthly dollar ($) amount of all inventory over the last 12 months."
   ]
  },
  {
   "cell_type": "code",
   "execution_count": 40,
   "metadata": {},
   "outputs": [
    {
     "name": "stdout",
     "output_type": "stream",
     "text": [
      "The Average Monthy dollar ($) amount of all inventory over the last 12 months: $26468.16\n"
     ]
    }
   ],
   "source": [
    "total = 0\n",
    "last_12_month_data = list(data.values())[-12:]\n",
    "for month_data in last_12_month_data:\n",
    "    total += month_data['Coat']['Inventory'] * month_data['Coat']['AvgCost']\n",
    "    total += month_data['Belt']['Inventory'] * month_data['Belt']['AvgCost']\n",
    "\n",
    "print('The Average Monthy dollar ($) amount of all inventory over the last 12 months: $%.2f' % (total / 12))"
   ]
  },
  {
   "cell_type": "code",
   "execution_count": null,
   "metadata": {},
   "outputs": [],
   "source": [
    "# option 1\n",
    "d = {\"Coat\": {\"Jan '23\": (50, 500),\n",
    "              \"Feb '23\": (48, 480)},\n",
    "\n",
    "     \"Belt\": {\"Jan '23\": (83, 25.00)}}\n",
    "\n",
    "# option 2a\n",
    "d = {\"Jan '23\": {\"Coat\": (50, 500), \"Belt\": (83, 25.00)},\n",
    "     \"Feb '23\": {\"Coat\": (48, 480), \"Belt\": (67, 23.50)}}\n",
    "\n",
    "# option 2b\n",
    "d = {\"Jan '23\": {\"Coat\": {\"Inventory\": 50, \"AvgCost\": 500}, \"Belt\": {\"Inventory\": 83, \"AvgCost\": 25.00},} ...}\n",
    "\n",
    "# option 3\n",
    "coat_d = {\"Jan '23\": (50, 500)}\n",
    "belt_d = {\"Jan '23\": (83, 25.00)}"
   ]
  },
  {
   "cell_type": "code",
   "execution_count": null,
   "metadata": {},
   "outputs": [],
   "source": [
    "# option 2a\n",
    "# month_data['Coat'][0] * month_data['Coat'][1]\n",
    "\n",
    "# option 3\n",
    "# c_data[month][0]\n",
    "# c_data[month][1]\n",
    "\n",
    "coat_data = {...}\n",
    "belt_data = {...}\n",
    "\n",
    "\n",
    "last_12_month_data = list(coat_data.values())[-12:]\n",
    "for month_data in last_12_month_data:\n",
    "    ... = month_data[0] * month_data[1]\n",
    "\n",
    "\n",
    "last_12_month_data = list(belt_data.values())[-12:]\n",
    "for month_data in last_12_month_data:\n",
    "    ... = month_data[0] * month_data[1]\n",
    "\n",
    "# -----------------\n",
    "\n",
    "last_12_month = list(coat_data.keys())[-12:]\n",
    "for month in last_12_month:\n",
    "    ... = coat_data[month][0] * coat_data[month][1]\n",
    "    ... = belt_data[month][0] * belt_data[month][1]\n"
   ]
  },
  {
   "cell_type": "code",
   "execution_count": 2,
   "metadata": {},
   "outputs": [],
   "source": [
    "# option 2b\n",
    "d = {\"Jan '23\": {\"Coat\": {\"Inventory\": 50, \"AvgCost\": 500}, \n",
    "                 \"Belt\": {\"Inventory\": 83, \"AvgCost\": 25.00},\n",
    "                 \"Sock\": {\"Inventory\": 10, \"AvgCost\": 5.00}},\n",
    "\n",
    "     \"Feb '23\": {\"Coat\": {\"Inventory\": 100, \"AvgCost\": 250}, \n",
    "                 \"Belt\": {\"Inventory\": 77, \"AvgCost\": 12.00},\n",
    "                 \"Sock\": {\"Inventory\": 5, \"AvgCost\": 3.00}}}\n",
    "\n",
    "\n",
    "d2 = {\"Coat\": {\"Jan '23\": {\"Inventory\": 50, \"AvgCost\": 500}, \n",
    "               \"Fen '23\": {\"Inventory\": 100, \"AvgCost\": 250}},\n",
    "\n",
    "      \"Belt\": {\"Jan '23\": {\"Inventory\": 83, \"AvgCost\": 25.00}, \n",
    "               \"Fen '23\": {\"Inventory\": 77, \"AvgCost\": 12.00}},\n",
    "    \n",
    "      \"Sock\": {\"Jan '23\": {\"Inventory\": 10, \"AvgCost\": 5.00}, \n",
    "               \"Fen '23\": {\"Inventory\": 5, \"AvgCost\": 3.00}}}"
   ]
  },
  {
   "cell_type": "code",
   "execution_count": 8,
   "metadata": {},
   "outputs": [
    {
     "name": "stdout",
     "output_type": "stream",
     "text": [
      "{'Coat': {\"Jan '23\": {'Inventory': 50, 'AvgCost': 500}, \"Feb '23\": {'Inventory': 100, 'AvgCost': 250}}, 'Belt': {\"Jan '23\": {'Inventory': 83, 'AvgCost': 25.0}, \"Feb '23\": {'Inventory': 77, 'AvgCost': 12.0}}, 'Sock': {\"Jan '23\": {'Inventory': 10, 'AvgCost': 5.0}, \"Feb '23\": {'Inventory': 5, 'AvgCost': 3.0}}}\n"
     ]
    }
   ],
   "source": [
    "res = {}\n",
    "\n",
    "for month in d:\n",
    "    for item in d[month]:\n",
    "        inv = d[month][item]['Inventory']\n",
    "        avg = d[month][item]['AvgCost']\n",
    "        \n",
    "        if item not in res:\n",
    "            res[item] = {}\n",
    "        \n",
    "        res[item][month] = {'Inventory': inv, 'AvgCost': avg}\n",
    "\n",
    "print(res)"
   ]
  },
  {
   "cell_type": "code",
   "execution_count": 12,
   "metadata": {},
   "outputs": [
    {
     "name": "stdout",
     "output_type": "stream",
     "text": [
      "{\"Jan '23\": 27125.0, \"Fen '23\": 25939.0}\n"
     ]
    }
   ],
   "source": [
    "d2 = {\"Coat\": {\"Jan '23\": {\"Inventory\": 50, \"AvgCost\": 500}, \n",
    "               \"Fen '23\": {\"Inventory\": 100, \"AvgCost\": 250}},\n",
    "\n",
    "      \"Belt\": {\"Jan '23\": {\"Inventory\": 83, \"AvgCost\": 25.00}, \n",
    "               \"Fen '23\": {\"Inventory\": 77, \"AvgCost\": 12.00}},\n",
    "    \n",
    "      \"Sock\": {\"Jan '23\": {\"Inventory\": 10, \"AvgCost\": 5.00}, \n",
    "               \"Fen '23\": {\"Inventory\": 5, \"AvgCost\": 3.00}}}\n",
    "\n",
    "d3 = {\"Jan '23\": 27125.0,    # (50*500 + 83*25.00 + 10*5.00)\n",
    "      \"Feb '23\": 25939.0}    # (100*250 + 77*12.00 + 5*3.00)}\n",
    "\n",
    "res = {}\n",
    "for item in d2:\n",
    "    for month in d2[item]:\n",
    "        \n",
    "        if month not in res:\n",
    "            res[month] = 0\n",
    "        \n",
    "        res[month] += (d2[item][month]['Inventory'] * d2[item][month]['AvgCost'])\n",
    "    \n",
    "print(res)\n"
   ]
  },
  {
   "cell_type": "code",
   "execution_count": 14,
   "metadata": {},
   "outputs": [
    {
     "name": "stdout",
     "output_type": "stream",
     "text": [
      "{'Coat': {'Inventory': 249, 'AvgCost': 250.63453815261045}, 'Belt': {'Inventory': 314, 'AvgCost': 11.337579617834395}, 'Sock': {'Inventory': 19, 'AvgCost': 5.473684210526316}}\n"
     ]
    }
   ],
   "source": [
    "d = {\"Jan '23\": {\"Coat\": {\"Inventory\": 50, \"AvgCost\": 500}, \n",
    "                 \"Belt\": {\"Inventory\": 83, \"AvgCost\": 25.00},\n",
    "                 \"Sock\": {\"Inventory\": 10, \"AvgCost\": 5.00}},\n",
    "\n",
    "     \"Feb '23\": {\"Coat\": {\"Inventory\": 100, \"AvgCost\": 250}, \n",
    "                 \"Belt\": {\"Inventory\": 77, \"AvgCost\": 12.00},\n",
    "                 \"Sock\": {\"Inventory\": 5, \"AvgCost\": 3.00}},\n",
    "\n",
    "     \"Mar '23\": {\"Coat\": {\"Inventory\": 66, \"AvgCost\": 155}, \n",
    "                 \"Belt\": {\"Inventory\": 55, \"AvgCost\": 3.00},\n",
    "                 \"Sock\": {\"Inventory\": 1, \"AvgCost\": 12.00}},\n",
    "\n",
    "     \"Apr '23\": {\"Coat\": {\"Inventory\": 33, \"AvgCost\": 66}, \n",
    "                 \"Belt\": {\"Inventory\": 99, \"AvgCost\": 4.00},\n",
    "                 \"Sock\": {\"Inventory\": 3, \"AvgCost\": 9.00}}}\n",
    "\n",
    "\n",
    "d4 = {\"Coat\": {\"Inventory\": 50+100+66+33, \"AvgCost\": (50*500+100*250+66*155+33*66) / (50+100+66+33)},\n",
    "      \"Belt\": ...}\n",
    "\n",
    "\n",
    "res = {}\n",
    "for month in d:\n",
    "    for item in d[month]:\n",
    "        inv = d[month][item]['Inventory']\n",
    "        avg = d[month][item]['AvgCost']\n",
    "\n",
    "        if item not in res:\n",
    "            res[item] = {'Inventory': 0, 'AvgCost': 0}\n",
    "        \n",
    "        res[item]['Inventory'] += inv\n",
    "        res[item]['AvgCost'] += (inv * avg) # total cost\n",
    "\n",
    "\n",
    "for item in res:\n",
    "    res[item]['AvgCost'] = res[item]['AvgCost'] / res[item]['Inventory']\n",
    "\n",
    "print(res)\n",
    "\n"
   ]
  }
 ],
 "metadata": {
  "kernelspec": {
   "display_name": "Python 3",
   "language": "python",
   "name": "python3"
  },
  "language_info": {
   "codemirror_mode": {
    "name": "ipython",
    "version": 3
   },
   "file_extension": ".py",
   "mimetype": "text/x-python",
   "name": "python",
   "nbconvert_exporter": "python",
   "pygments_lexer": "ipython3",
   "version": "3.11.1"
  },
  "orig_nbformat": 4,
  "vscode": {
   "interpreter": {
    "hash": "aee8b7b246df8f9039afb4144a1f6fd8d2ca17a180786b69acc140d282b71a49"
   }
  }
 },
 "nbformat": 4,
 "nbformat_minor": 2
}
