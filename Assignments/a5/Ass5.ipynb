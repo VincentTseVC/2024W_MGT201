{
 "cells": [
  {
   "cell_type": "code",
   "execution_count": 1,
   "metadata": {},
   "outputs": [
    {
     "data": {
      "text/html": [
       "<div>\n",
       "<style scoped>\n",
       "    .dataframe tbody tr th:only-of-type {\n",
       "        vertical-align: middle;\n",
       "    }\n",
       "\n",
       "    .dataframe tbody tr th {\n",
       "        vertical-align: top;\n",
       "    }\n",
       "\n",
       "    .dataframe thead th {\n",
       "        text-align: right;\n",
       "    }\n",
       "</style>\n",
       "<table border=\"1\" class=\"dataframe\">\n",
       "  <thead>\n",
       "    <tr style=\"text-align: right;\">\n",
       "      <th></th>\n",
       "      <th>Transaction</th>\n",
       "      <th>Purchase Date</th>\n",
       "      <th>Customer ID</th>\n",
       "      <th>Gender</th>\n",
       "      <th>Marital Status</th>\n",
       "      <th>Homeowner</th>\n",
       "      <th>Children</th>\n",
       "      <th>Annual Income</th>\n",
       "      <th>City</th>\n",
       "      <th>State or Province</th>\n",
       "      <th>Country</th>\n",
       "      <th>Product Family</th>\n",
       "      <th>Product Department</th>\n",
       "      <th>Product Category</th>\n",
       "      <th>Units Sold</th>\n",
       "      <th>Revenue</th>\n",
       "    </tr>\n",
       "  </thead>\n",
       "  <tbody>\n",
       "    <tr>\n",
       "      <th>0</th>\n",
       "      <td>1</td>\n",
       "      <td>12/18/2014</td>\n",
       "      <td>7223</td>\n",
       "      <td>F</td>\n",
       "      <td>S</td>\n",
       "      <td>Y</td>\n",
       "      <td>2</td>\n",
       "      <td>$30K - $50K</td>\n",
       "      <td>Los Angeles</td>\n",
       "      <td>CA</td>\n",
       "      <td>USA</td>\n",
       "      <td>Food</td>\n",
       "      <td>Snack Foods</td>\n",
       "      <td>Snack Foods</td>\n",
       "      <td>5</td>\n",
       "      <td>27.38</td>\n",
       "    </tr>\n",
       "    <tr>\n",
       "      <th>1</th>\n",
       "      <td>2</td>\n",
       "      <td>12/20/2014</td>\n",
       "      <td>7841</td>\n",
       "      <td>M</td>\n",
       "      <td>M</td>\n",
       "      <td>Y</td>\n",
       "      <td>5</td>\n",
       "      <td>$70K - $90K</td>\n",
       "      <td>Los Angeles</td>\n",
       "      <td>CA</td>\n",
       "      <td>USA</td>\n",
       "      <td>Food</td>\n",
       "      <td>Produce</td>\n",
       "      <td>Vegetables</td>\n",
       "      <td>5</td>\n",
       "      <td>14.90</td>\n",
       "    </tr>\n",
       "    <tr>\n",
       "      <th>2</th>\n",
       "      <td>3</td>\n",
       "      <td>12/21/2014</td>\n",
       "      <td>8374</td>\n",
       "      <td>F</td>\n",
       "      <td>M</td>\n",
       "      <td>N</td>\n",
       "      <td>2</td>\n",
       "      <td>$50K - $70K</td>\n",
       "      <td>Bremerton</td>\n",
       "      <td>WA</td>\n",
       "      <td>USA</td>\n",
       "      <td>Food</td>\n",
       "      <td>Snack Foods</td>\n",
       "      <td>Snack Foods</td>\n",
       "      <td>3</td>\n",
       "      <td>5.52</td>\n",
       "    </tr>\n",
       "    <tr>\n",
       "      <th>3</th>\n",
       "      <td>4</td>\n",
       "      <td>12/21/2014</td>\n",
       "      <td>9619</td>\n",
       "      <td>M</td>\n",
       "      <td>M</td>\n",
       "      <td>Y</td>\n",
       "      <td>3</td>\n",
       "      <td>$30K - $50K</td>\n",
       "      <td>Portland</td>\n",
       "      <td>OR</td>\n",
       "      <td>USA</td>\n",
       "      <td>Food</td>\n",
       "      <td>Snacks</td>\n",
       "      <td>Candy</td>\n",
       "      <td>4</td>\n",
       "      <td>4.44</td>\n",
       "    </tr>\n",
       "    <tr>\n",
       "      <th>4</th>\n",
       "      <td>5</td>\n",
       "      <td>12/22/2014</td>\n",
       "      <td>1900</td>\n",
       "      <td>F</td>\n",
       "      <td>S</td>\n",
       "      <td>Y</td>\n",
       "      <td>3</td>\n",
       "      <td>$130K - $150K</td>\n",
       "      <td>Beverly Hills</td>\n",
       "      <td>CA</td>\n",
       "      <td>USA</td>\n",
       "      <td>Drink</td>\n",
       "      <td>Beverages</td>\n",
       "      <td>Carbonated Beverages</td>\n",
       "      <td>4</td>\n",
       "      <td>14.00</td>\n",
       "    </tr>\n",
       "    <tr>\n",
       "      <th>...</th>\n",
       "      <td>...</td>\n",
       "      <td>...</td>\n",
       "      <td>...</td>\n",
       "      <td>...</td>\n",
       "      <td>...</td>\n",
       "      <td>...</td>\n",
       "      <td>...</td>\n",
       "      <td>...</td>\n",
       "      <td>...</td>\n",
       "      <td>...</td>\n",
       "      <td>...</td>\n",
       "      <td>...</td>\n",
       "      <td>...</td>\n",
       "      <td>...</td>\n",
       "      <td>...</td>\n",
       "      <td>...</td>\n",
       "    </tr>\n",
       "    <tr>\n",
       "      <th>14054</th>\n",
       "      <td>14055</td>\n",
       "      <td>12/29/2016</td>\n",
       "      <td>9102</td>\n",
       "      <td>F</td>\n",
       "      <td>M</td>\n",
       "      <td>Y</td>\n",
       "      <td>2</td>\n",
       "      <td>$10K - $30K</td>\n",
       "      <td>Bremerton</td>\n",
       "      <td>WA</td>\n",
       "      <td>USA</td>\n",
       "      <td>Food</td>\n",
       "      <td>Baking Goods</td>\n",
       "      <td>Baking Goods</td>\n",
       "      <td>3</td>\n",
       "      <td>9.64</td>\n",
       "    </tr>\n",
       "    <tr>\n",
       "      <th>14055</th>\n",
       "      <td>14056</td>\n",
       "      <td>12/29/2016</td>\n",
       "      <td>4822</td>\n",
       "      <td>F</td>\n",
       "      <td>M</td>\n",
       "      <td>Y</td>\n",
       "      <td>3</td>\n",
       "      <td>$10K - $30K</td>\n",
       "      <td>Walla Walla</td>\n",
       "      <td>WA</td>\n",
       "      <td>USA</td>\n",
       "      <td>Food</td>\n",
       "      <td>Frozen Foods</td>\n",
       "      <td>Vegetables</td>\n",
       "      <td>3</td>\n",
       "      <td>7.45</td>\n",
       "    </tr>\n",
       "    <tr>\n",
       "      <th>14056</th>\n",
       "      <td>14057</td>\n",
       "      <td>12/31/2016</td>\n",
       "      <td>250</td>\n",
       "      <td>M</td>\n",
       "      <td>S</td>\n",
       "      <td>Y</td>\n",
       "      <td>1</td>\n",
       "      <td>$30K - $50K</td>\n",
       "      <td>Portland</td>\n",
       "      <td>OR</td>\n",
       "      <td>USA</td>\n",
       "      <td>Drink</td>\n",
       "      <td>Beverages</td>\n",
       "      <td>Pure Juice Beverages</td>\n",
       "      <td>4</td>\n",
       "      <td>3.24</td>\n",
       "    </tr>\n",
       "    <tr>\n",
       "      <th>14057</th>\n",
       "      <td>14058</td>\n",
       "      <td>12/31/2016</td>\n",
       "      <td>6153</td>\n",
       "      <td>F</td>\n",
       "      <td>S</td>\n",
       "      <td>N</td>\n",
       "      <td>4</td>\n",
       "      <td>$50K - $70K</td>\n",
       "      <td>Spokane</td>\n",
       "      <td>WA</td>\n",
       "      <td>USA</td>\n",
       "      <td>Drink</td>\n",
       "      <td>Dairy</td>\n",
       "      <td>Dairy</td>\n",
       "      <td>2</td>\n",
       "      <td>4.00</td>\n",
       "    </tr>\n",
       "    <tr>\n",
       "      <th>14058</th>\n",
       "      <td>14059</td>\n",
       "      <td>12/31/2016</td>\n",
       "      <td>3656</td>\n",
       "      <td>M</td>\n",
       "      <td>S</td>\n",
       "      <td>N</td>\n",
       "      <td>3</td>\n",
       "      <td>$50K - $70K</td>\n",
       "      <td>Portland</td>\n",
       "      <td>OR</td>\n",
       "      <td>USA</td>\n",
       "      <td>Non-Consumable</td>\n",
       "      <td>Household</td>\n",
       "      <td>Electrical</td>\n",
       "      <td>5</td>\n",
       "      <td>25.53</td>\n",
       "    </tr>\n",
       "  </tbody>\n",
       "</table>\n",
       "<p>14059 rows × 16 columns</p>\n",
       "</div>"
      ],
      "text/plain": [
       "       Transaction Purchase Date  Customer ID Gender Marital Status Homeowner  \\\n",
       "0                1    12/18/2014         7223      F              S         Y   \n",
       "1                2    12/20/2014         7841      M              M         Y   \n",
       "2                3    12/21/2014         8374      F              M         N   \n",
       "3                4    12/21/2014         9619      M              M         Y   \n",
       "4                5    12/22/2014         1900      F              S         Y   \n",
       "...            ...           ...          ...    ...            ...       ...   \n",
       "14054        14055    12/29/2016         9102      F              M         Y   \n",
       "14055        14056    12/29/2016         4822      F              M         Y   \n",
       "14056        14057    12/31/2016          250      M              S         Y   \n",
       "14057        14058    12/31/2016         6153      F              S         N   \n",
       "14058        14059    12/31/2016         3656      M              S         N   \n",
       "\n",
       "       Children  Annual Income           City State or Province Country  \\\n",
       "0             2    $30K - $50K    Los Angeles                CA     USA   \n",
       "1             5    $70K - $90K    Los Angeles                CA     USA   \n",
       "2             2    $50K - $70K      Bremerton                WA     USA   \n",
       "3             3    $30K - $50K       Portland                OR     USA   \n",
       "4             3  $130K - $150K  Beverly Hills                CA     USA   \n",
       "...         ...            ...            ...               ...     ...   \n",
       "14054         2    $10K - $30K      Bremerton                WA     USA   \n",
       "14055         3    $10K - $30K    Walla Walla                WA     USA   \n",
       "14056         1    $30K - $50K       Portland                OR     USA   \n",
       "14057         4    $50K - $70K        Spokane                WA     USA   \n",
       "14058         3    $50K - $70K       Portland                OR     USA   \n",
       "\n",
       "       Product Family Product Department      Product Category  Units Sold  \\\n",
       "0                Food        Snack Foods           Snack Foods           5   \n",
       "1                Food            Produce            Vegetables           5   \n",
       "2                Food        Snack Foods           Snack Foods           3   \n",
       "3                Food             Snacks                 Candy           4   \n",
       "4               Drink          Beverages  Carbonated Beverages           4   \n",
       "...               ...                ...                   ...         ...   \n",
       "14054            Food       Baking Goods          Baking Goods           3   \n",
       "14055            Food       Frozen Foods            Vegetables           3   \n",
       "14056           Drink          Beverages  Pure Juice Beverages           4   \n",
       "14057           Drink              Dairy                 Dairy           2   \n",
       "14058  Non-Consumable          Household            Electrical           5   \n",
       "\n",
       "       Revenue  \n",
       "0        27.38  \n",
       "1        14.90  \n",
       "2         5.52  \n",
       "3         4.44  \n",
       "4        14.00  \n",
       "...        ...  \n",
       "14054     9.64  \n",
       "14055     7.45  \n",
       "14056     3.24  \n",
       "14057     4.00  \n",
       "14058    25.53  \n",
       "\n",
       "[14059 rows x 16 columns]"
      ]
     },
     "execution_count": 1,
     "metadata": {},
     "output_type": "execute_result"
    }
   ],
   "source": [
    "import pandas as pd\n",
    "\n",
    "# Read the CSV file\n",
    "df = pd.read_csv(\"MGT 201 - Homework 4 Data Set (040124) (Quercus).csv\")\n",
    "df"
   ]
  },
  {
   "cell_type": "code",
   "execution_count": null,
   "metadata": {},
   "outputs": [],
   "source": [
    "# Convert Purchase Date to datetime format\n",
    "df['Purchase Date'] = pd.to_datetime(df['Purchase Date'])"
   ]
  },
  {
   "cell_type": "code",
   "execution_count": 3,
   "metadata": {},
   "outputs": [],
   "source": [
    "# Calculate the total number of transactions\n",
    "total_transactions = len(df)"
   ]
  },
  {
   "cell_type": "code",
   "execution_count": 5,
   "metadata": {},
   "outputs": [
    {
     "name": "stdout",
     "output_type": "stream",
     "text": [
      "Proportion of transactions made by customers who are married: 0.48837043886478415\n"
     ]
    }
   ],
   "source": [
    "# 1. Proportion of transactions made by customers who are married\n",
    "married_transactions = df[df['Marital Status'] == 'M']\n",
    "married_proportion = len(married_transactions) / total_transactions\n",
    "print(\"Proportion of transactions made by customers who are married:\", married_proportion)"
   ]
  },
  {
   "cell_type": "code",
   "execution_count": 6,
   "metadata": {},
   "outputs": [
    {
     "name": "stdout",
     "output_type": "stream",
     "text": [
      "Proportion of transactions made by customers who do not own a home: 0.3993882921971691\n"
     ]
    }
   ],
   "source": [
    "# 2. Proportion of transactions made by customers who do not own a home\n",
    "non_homeowner_transactions = df[df['Homeowner'] == 'N']\n",
    "non_homeowner_proportion = len(non_homeowner_transactions) / total_transactions\n",
    "print(\"Proportion of transactions made by customers who do not own a home:\", non_homeowner_proportion)"
   ]
  },
  {
   "cell_type": "code",
   "execution_count": 7,
   "metadata": {},
   "outputs": [
    {
     "name": "stdout",
     "output_type": "stream",
     "text": [
      "Proportion of transactions made by customers who have at least one child: 0.904402873604097\n"
     ]
    }
   ],
   "source": [
    "# 3. Proportion of transactions made by customers who have at least one child\n",
    "at_least_one_child_transactions = df[df['Children'] > 0]\n",
    "at_least_one_child_proportion = len(at_least_one_child_transactions) / total_transactions\n",
    "print(\"Proportion of transactions made by customers who have at least one child:\", at_least_one_child_proportion)"
   ]
  },
  {
   "cell_type": "code",
   "execution_count": 8,
   "metadata": {},
   "outputs": [
    {
     "name": "stdout",
     "output_type": "stream",
     "text": [
      "Proportion of supermarket customers who are single and own a home: 0.2345117006899495\n"
     ]
    }
   ],
   "source": [
    "# 4. Proportion of supermarket customers who are single and own a home\n",
    "single_homeowner_transactions = df[(df['Marital Status'] == 'S') & (df['Homeowner'] == 'Y')]\n",
    "single_homeowner_proportion = len(single_homeowner_transactions) / total_transactions\n",
    "print(\"Proportion of supermarket customers who are single and own a home:\", single_homeowner_proportion)"
   ]
  },
  {
   "cell_type": "code",
   "execution_count": null,
   "metadata": {},
   "outputs": [],
   "source": [
    "# 1. Total revenue for January 2016 and February 2016\n",
    "jan_feb_2016_revenue = df[(df['Purchase Date'].dt.year == 2016) & (df['Purchase Date'].dt.month.isin([1, 2]))]['Revenue'].sum()\n",
    "print(\"Total revenue in $ for January 2016 and February 2016:\", jan_feb_2016_revenue)"
   ]
  },
  {
   "cell_type": "code",
   "execution_count": 10,
   "metadata": {},
   "outputs": [
    {
     "name": "stdout",
     "output_type": "stream",
     "text": [
      "Total revenue in $ for January 2016 and February 2016: 20453.39\n"
     ]
    }
   ],
   "source": [
    "# 1. Total revenue for January 2016 and February 2016\n",
    "jan_feb_2016_revenue = df[(df['Purchase Date'].str[-4:] == '2016') & (df['Purchase Date'].str[:2].isin(['1/', '2/']))]['Revenue'].sum()\n",
    "print(\"Total revenue in $ for January 2016 and February 2016:\", jan_feb_2016_revenue)"
   ]
  },
  {
   "cell_type": "code",
   "execution_count": 11,
   "metadata": {},
   "outputs": [
    {
     "name": "stdout",
     "output_type": "stream",
     "text": [
      "Total revenue in $ for all purchases made by married female homeowners: 35996.0\n"
     ]
    }
   ],
   "source": [
    "# 2. Total revenue for all purchases made by married female homeowners\n",
    "married_female_homeowners_revenue = df[(df['Marital Status'] == 'M') & (df['Gender'] == 'F') & (df['Homeowner'] == 'Y')]['Revenue'].sum()\n",
    "print(\"Total revenue in $ for all purchases made by married female homeowners:\", married_female_homeowners_revenue)"
   ]
  },
  {
   "cell_type": "code",
   "execution_count": 12,
   "metadata": {},
   "outputs": [
    {
     "name": "stdout",
     "output_type": "stream",
     "text": [
      "Total revenue in $ in the state of California: 34730.41\n"
     ]
    }
   ],
   "source": [
    "# 3. Total revenue in $ in the state of California\n",
    "california_revenue = df[df['State or Province'] == 'CA']['Revenue'].sum()\n",
    "print(\"Total revenue in $ in the state of California:\", california_revenue)"
   ]
  },
  {
   "cell_type": "code",
   "execution_count": 13,
   "metadata": {},
   "outputs": [
    {
     "name": "stdout",
     "output_type": "stream",
     "text": [
      "Total revenue in $ generated by the Produce product department: 27251.379999999997\n"
     ]
    }
   ],
   "source": [
    "# 4. Total revenue in $ generated by the Produce product department\n",
    "produce_revenue = df[df['Product Department'] == 'Produce']['Revenue'].sum()\n",
    "print(\"Total revenue in $ generated by the Produce product department:\", produce_revenue)"
   ]
  }
 ],
 "metadata": {
  "kernelspec": {
   "display_name": "Python 3",
   "language": "python",
   "name": "python3"
  },
  "language_info": {
   "codemirror_mode": {
    "name": "ipython",
    "version": 3
   },
   "file_extension": ".py",
   "mimetype": "text/x-python",
   "name": "python",
   "nbconvert_exporter": "python",
   "pygments_lexer": "ipython3",
   "version": "3.11.1"
  },
  "orig_nbformat": 4,
  "vscode": {
   "interpreter": {
    "hash": "aee8b7b246df8f9039afb4144a1f6fd8d2ca17a180786b69acc140d282b71a49"
   }
  }
 },
 "nbformat": 4,
 "nbformat_minor": 2
}
