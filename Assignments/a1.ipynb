{
 "cells": [
  {
   "attachments": {},
   "cell_type": "markdown",
   "metadata": {},
   "source": [
    "# Title 1\n",
    "## Title 2\n",
    "### *Title 3*\n",
    "\n",
    "*hello*\n",
    "\n",
    "---\n",
    "\n",
    "first line  \n",
    "second line"
   ]
  },
  {
   "cell_type": "code",
   "execution_count": 3,
   "metadata": {},
   "outputs": [
    {
     "name": "stdout",
     "output_type": "stream",
     "text": [
      "Hello 阿姆啊🌞\n"
     ]
    }
   ],
   "source": [
    "name = input('Enter your name: ')\n",
    "print('Hello ' + name)\n"
   ]
  },
  {
   "cell_type": "code",
   "execution_count": null,
   "metadata": {},
   "outputs": [],
   "source": [
    "data = {'emp1': {600: 1, \n",
    "                 250: 0, \n",
    "                 50: 0, \n",
    "                 10: 0},\n",
    "\n",
    "        'emp2': {600: 0, \n",
    "                 250: 2, \n",
    "                 50: 1, \n",
    "                 10: 0}}\n"
   ]
  },
  {
   "attachments": {},
   "cell_type": "markdown",
   "metadata": {},
   "source": [
    "First, Lets create a price dictionary to keep track of the price for each combination"
   ]
  },
  {
   "cell_type": "code",
   "execution_count": null,
   "metadata": {},
   "outputs": [],
   "source": [
    "價格字典 = {600: 100, 250: 50, 50: 25, 10: 15}"
   ]
  },
  {
   "attachments": {},
   "cell_type": "markdown",
   "metadata": {},
   "source": [
    "Now, create empty dictionary to keep track of our data  \n",
    "the data will look something like this:  \n",
    "\n",
    "```\n",
    "data = {'emp1': {600: 1, \n",
    "                 250: 0, \n",
    "                 50: 0, \n",
    "                 10: 0},\n",
    "\n",
    "        'emp2': {600: 0, \n",
    "                 250: 2, \n",
    "                 50: 1, \n",
    "                 10: 0}}\n",
    "```\n",
    "\n",
    "where each key represent ..... and ....."
   ]
  },
  {
   "cell_type": "code",
   "execution_count": 9,
   "metadata": {},
   "outputs": [],
   "source": [
    "數據字典 = {}"
   ]
  },
  {
   "attachments": {},
   "cell_type": "markdown",
   "metadata": {},
   "source": [
    "Lets let start to collect data from using input ......"
   ]
  },
  {
   "cell_type": "code",
   "execution_count": null,
   "metadata": {},
   "outputs": [],
   "source": [
    "\n",
    "while True:\n",
    "    員工號碼 = input('輸入你的員工號碼: ')\n",
    "    # # 可以自己加限制條件\n",
    "    # if 員工號碼 == 'q':\n",
    "    #     break\n",
    "    \n",
    "    if 員工號碼 not in 數據字典:\n",
    "        # 數據字典[員工號碼] = {600: 0, 250: 0, 50: 0, 10: 0}\n",
    "        數據字典[員工號碼] = {}\n",
    "\n",
    "    門票組合 = int(input('輸入combination (600, 250, 50, 10): '))\n",
    "    # if 門票組合 < 0:\n",
    "    # if 門票組合 not in 價格字典:\n",
    "        # print('Invalid Input')\n",
    "\n",
    "    # now we need to validate our input, so its one of the four combination\n",
    "    while 門票組合 not in 價格字典:\n",
    "        print('Invalid Input')\n",
    "        門票組合 = int(input('請重新輸入combination (600, 250, 50, 10): '))\n",
    "\n",
    "    # increase the number of purchase of the corresponding emp id and combination by 1\n",
    "    # 數據字典[員工號碼][門票組合] += 1\n",
    "    if 門票組合 in 數據字典[員工號碼]:\n",
    "        數據字典[員工號碼][門票組合] += 1\n",
    "    else:\n",
    "        數據字典[員工號碼][門票組合] = 1\n",
    "\n",
    "    quit = input('請問你要結束嗎? (y/n) ')\n",
    "    if quit == 'y':\n",
    "        break\n"
   ]
  },
  {
   "attachments": {},
   "cell_type": "markdown",
   "metadata": {},
   "source": [
    "now, lets check out collected data first, before we generate our summary"
   ]
  },
  {
   "cell_type": "code",
   "execution_count": 8,
   "metadata": {},
   "outputs": [
    {
     "data": {
      "text/plain": [
       "{'阿姆啊🌞': {600: 2, 250: 1, 50: 0, 10: 1},\n",
       " 'kyra': {600: 0, 250: 0, 50: 2, 10: 0}}"
      ]
     },
     "execution_count": 8,
     "metadata": {},
     "output_type": "execute_result"
    }
   ],
   "source": [
    "數據字典"
   ]
  },
  {
   "attachments": {},
   "cell_type": "markdown",
   "metadata": {},
   "source": [
    "Finally, we can generate the summary!!"
   ]
  },
  {
   "cell_type": "code",
   "execution_count": null,
   "metadata": {},
   "outputs": [],
   "source": [
    "# 如何顯示summary 請各位 自由發揮！！！\n",
    "for 員工 in 數據字典:\n",
    "    print(f'員工: {員工} 的數據如以下: ')\n",
    "    for 組合 in 數據字典[員工]:\n",
    "        交易數量 = 數據字典[員工][組合]\n",
    "        組合賣出總價格 = 價格字典[組合] * 交易數量\n",
    "        組合賣出總數量 = 組合 * 交易數量\n",
    "    \n",
    "        # 各位自由發揮的時候了\n",
    "        print(f'({組合} ticket / ${價格字典[組合]}) 的組合 賣出: ')\n",
    "        print(f' 一共 {交易數量} 的交易次數')\n",
    "        print(f' 一共 {組合賣出總價格} 的總價格')\n",
    "        print(f' 一共 {組合賣出總數量} 的總票數量')"
   ]
  },
  {
   "cell_type": "code",
   "execution_count": 7,
   "metadata": {},
   "outputs": [
    {
     "name": "stdout",
     "output_type": "stream",
     "text": [
      "\n",
      "Report1:\n",
      "Employee ID: A, Total Amount Sold: $50, Total Tickets Sold: 1\n",
      "Overall Total Amount Sold: $50\n",
      "Overall Total Tickets Sold: 1\n",
      "\n",
      "Report2:\n",
      "Ticket Combination: 600-ticket\n",
      "Number of Purchases: 0\n",
      "Dollar Amount Collected: $0\n",
      "\n",
      "Ticket Combination: 250-ticket\n",
      "Number of Purchases: 1\n",
      "Dollar Amount Collected: $50\n",
      "\n",
      "Ticket Combination: 50-ticket\n",
      "Number of Purchases: 0\n",
      "Dollar Amount Collected: $0\n",
      "\n",
      "Ticket Combination: 10-ticket\n",
      "Number of Purchases: 0\n",
      "Dollar Amount Collected: $0\n",
      "\n"
     ]
    }
   ],
   "source": [
    "# create dictionary to show the price for each combination\n",
    "combination = {600: 100, 250: 50, 50: 25, 10: 15}\n",
    "\n",
    "\n",
    "# create empty dictionary to show data \n",
    "Data = {}\n",
    "while True:\n",
    "    employee_ID = input('enter ID or enter END to indicate the end: ')\n",
    "    \n",
    "    \n",
    "    if employee_ID not in Data:\n",
    "        Data[employee_ID] = {600: 0, 250: 0, 50: 0, 10: 0}\n",
    "\n",
    "# need to validate our input, so its one of the four combination\n",
    "    while True:\n",
    "        ticket_combination = int(input('enter combination (600, 250, 50, 10): '))\n",
    "        if ticket_combination in combination:\n",
    "            Data[employee_ID][ticket_combination] += 1 # increase number of combination sold of the corresponding employee id by 1\n",
    "            break\n",
    "        else:\n",
    "            print('Invalid Input')  # cheack no negative purchases\n",
    "\n",
    "    END = input('Whether or not to end')\n",
    "    if END == 'yes':\n",
    "        break\n",
    "             \n",
    "# now create total_tickets and total_amounted to report the total dollar amount and the total number of tickets that employees sold\n",
    "total_amount_sold = 0\n",
    "total_tickets_sold = 0\n",
    "\n",
    "print(\"\\nReport1:\") #this is my report, using \\n is to insert a newline, creating a line break in the output\n",
    "for employee, data in Data.items(): #using the in keyword to check if a key exists in a dictionary before trying to access it\n",
    "    total_amount = sum(combination[comb] * count for comb, count in data.items()) #accoring to MGT201 Reference Notes\n",
    "    total_tickets = sum(data.values())\n",
    "    print(f\"Employee ID: {employee}, Total Amount Sold: ${total_amount}, Total Tickets Sold: {total_tickets}\") # show the summary about The number of tickets they sell and the price gain corresponding to each employee\n",
    "    total_amount_sold += total_amount\n",
    "    total_tickets_sold += total_tickets\n",
    "\n",
    "print(f\"Overall Total Amount Sold: ${total_amount_sold}\")    \n",
    "print(f\"Overall Total Tickets Sold: {total_tickets_sold}\")\n",
    "\n",
    "print(\"\\nReport2:\")\n",
    "for comb, price in combination.items():\n",
    "    total_purchases = sum(data[comb] for data in Data.values())\n",
    "    print(f\"Ticket Combination: {comb}-ticket\")\n",
    "    print(f\"Number of Purchases: {total_purchases}\")\n",
    "    print(f\"Dollar Amount Collected: ${total_purchases * price}\\n\")"
   ]
  }
 ],
 "metadata": {
  "kernelspec": {
   "display_name": "Python 3",
   "language": "python",
   "name": "python3"
  },
  "language_info": {
   "codemirror_mode": {
    "name": "ipython",
    "version": 3
   },
   "file_extension": ".py",
   "mimetype": "text/x-python",
   "name": "python",
   "nbconvert_exporter": "python",
   "pygments_lexer": "ipython3",
   "version": "3.11.1"
  },
  "orig_nbformat": 4,
  "vscode": {
   "interpreter": {
    "hash": "aee8b7b246df8f9039afb4144a1f6fd8d2ca17a180786b69acc140d282b71a49"
   }
  }
 },
 "nbformat": 4,
 "nbformat_minor": 2
}
