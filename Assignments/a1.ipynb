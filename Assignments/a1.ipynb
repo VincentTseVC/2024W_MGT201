{
 "cells": [
  {
   "attachments": {},
   "cell_type": "markdown",
   "metadata": {},
   "source": [
    "# Title 1\n",
    "## Title 2\n",
    "### *Title 3*\n",
    "\n",
    "*hello*\n",
    "\n",
    "---\n",
    "\n",
    "first line  \n",
    "second line"
   ]
  },
  {
   "cell_type": "code",
   "execution_count": 3,
   "metadata": {},
   "outputs": [
    {
     "name": "stdout",
     "output_type": "stream",
     "text": [
      "Hello 阿姆啊🌞\n"
     ]
    }
   ],
   "source": [
    "name = input('Enter your name: ')\n",
    "print('Hello ' + name)\n"
   ]
  },
  {
   "cell_type": "code",
   "execution_count": null,
   "metadata": {},
   "outputs": [],
   "source": [
    "data = {'emp1': {600: 1, \n",
    "                 250: 0, \n",
    "                 50: 0, \n",
    "                 10: 0},\n",
    "\n",
    "        'emp2': {600: 0, \n",
    "                 250: 2, \n",
    "                 50: 1, \n",
    "                 10: 0}}\n"
   ]
  },
  {
   "attachments": {},
   "cell_type": "markdown",
   "metadata": {},
   "source": [
    "First, Lets create a price dictionary to keep track of the price for each combination"
   ]
  },
  {
   "cell_type": "code",
   "execution_count": null,
   "metadata": {},
   "outputs": [],
   "source": [
    "價格字典 = {600: 100, 250: 50, 50: 25, 10: 15}"
   ]
  },
  {
   "attachments": {},
   "cell_type": "markdown",
   "metadata": {},
   "source": [
    "Now, create empty dictionary to keep track of our data  \n",
    "the data will look something like this:  \n",
    "\n",
    "```\n",
    "data = {'emp1': {600: 1, \n",
    "                 250: 0, \n",
    "                 50: 0, \n",
    "                 10: 0},\n",
    "\n",
    "        'emp2': {600: 0, \n",
    "                 250: 2, \n",
    "                 50: 1, \n",
    "                 10: 0}}\n",
    "```\n",
    "\n",
    "where each key represent ..... and ....."
   ]
  },
  {
   "cell_type": "code",
   "execution_count": 9,
   "metadata": {},
   "outputs": [],
   "source": [
    "數據字典 = {}"
   ]
  },
  {
   "attachments": {},
   "cell_type": "markdown",
   "metadata": {},
   "source": [
    "Lets let start to collect data from using input ......"
   ]
  },
  {
   "cell_type": "code",
   "execution_count": null,
   "metadata": {},
   "outputs": [],
   "source": [
    "\n",
    "while True:\n",
    "    員工號碼 = input('輸入你的員工號碼: ')\n",
    "    # # 可以自己加限制條件\n",
    "    # if 員工號碼 == 'q':\n",
    "    #     break\n",
    "    \n",
    "    if 員工號碼 not in 數據字典:\n",
    "        數據字典[員工號碼] = {600: 0, 250: 0, 50: 0, 10: 0}\n",
    "        # 數據字典[員工號碼] = {}\n",
    "\n",
    "    門票組合 = int(input('輸入combination (600, 250, 50, 10): '))\n",
    "    # if 門票組合 < 0:\n",
    "    # if 門票組合 not in 價格字典:\n",
    "        # print('Invalid Input')\n",
    "\n",
    "    # now we need to validate our input, so its one of the four combination\n",
    "    while 門票組合 not in 價格字典:\n",
    "        print('Invalid Input')\n",
    "        門票組合 = int(input('請重新輸入combination (600, 250, 50, 10): '))\n",
    "\n",
    "    # increase the number of purchase of the corresponding emp id and combination by 1\n",
    "    數據字典[員工號碼][門票組合] += 1\n",
    "    # if 門票組合 in 數據字典[員工號碼]:\n",
    "    #     數據字典[員工號碼][門票組合] += 1\n",
    "    # else:\n",
    "    #     數據字典[員工號碼][門票組合] = 1\n",
    "\n",
    "    quit = input('請問你要結束嗎? (y/n) ')\n",
    "    if quit == 'y':\n",
    "        break\n"
   ]
  },
  {
   "attachments": {},
   "cell_type": "markdown",
   "metadata": {},
   "source": [
    "now, lets check out collected data first, before we generate our summary"
   ]
  },
  {
   "cell_type": "code",
   "execution_count": 8,
   "metadata": {},
   "outputs": [
    {
     "data": {
      "text/plain": [
       "{'阿姆啊🌞': {600: 2, 250: 1, 50: 0, 10: 1},\n",
       " 'kyra': {600: 0, 250: 0, 50: 2, 10: 0}}"
      ]
     },
     "execution_count": 8,
     "metadata": {},
     "output_type": "execute_result"
    }
   ],
   "source": [
    "數據字典"
   ]
  },
  {
   "attachments": {},
   "cell_type": "markdown",
   "metadata": {},
   "source": [
    "Finally, we can generate the summary!!"
   ]
  },
  {
   "cell_type": "code",
   "execution_count": null,
   "metadata": {},
   "outputs": [],
   "source": [
    "# 如何顯示summary 請各位 自由發揮！！！\n",
    "for 員工 in 數據字典:\n",
    "    print(f'員工: {員工} 的數據如以下: ')\n",
    "    for 組合 in 數據字典[員工]:\n",
    "        交易數量 = 數據字典[員工][組合]\n",
    "        組合賣出總價格 = 價格字典[組合] * 交易數量\n",
    "        組合賣出總數量 = 組合 * 交易數量\n",
    "    \n",
    "        # 各位自由發揮的時候了\n",
    "        print(f'({組合} ticket / ${價格字典[組合]}) 的組合 賣出: ')\n",
    "        print(f' 一共 {交易數量} 的交易次數')\n",
    "        print(f' 一共 {組合賣出總價格} 的總價格')\n",
    "        print(f' 一共 {組合賣出總數量} 的總票數量')"
   ]
  }
 ],
 "metadata": {
  "kernelspec": {
   "display_name": "Python 3",
   "language": "python",
   "name": "python3"
  },
  "language_info": {
   "codemirror_mode": {
    "name": "ipython",
    "version": 3
   },
   "file_extension": ".py",
   "mimetype": "text/x-python",
   "name": "python",
   "nbconvert_exporter": "python",
   "pygments_lexer": "ipython3",
   "version": "3.11.1 (v3.11.1:a7a450f84a, Dec  6 2022, 15:24:06) [Clang 13.0.0 (clang-1300.0.29.30)]"
  },
  "orig_nbformat": 4,
  "vscode": {
   "interpreter": {
    "hash": "aee8b7b246df8f9039afb4144a1f6fd8d2ca17a180786b69acc140d282b71a49"
   }
  }
 },
 "nbformat": 4,
 "nbformat_minor": 2
}
